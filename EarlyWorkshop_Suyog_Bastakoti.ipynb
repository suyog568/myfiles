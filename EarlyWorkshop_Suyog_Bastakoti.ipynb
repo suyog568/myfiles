{
 "cells": [
  {
   "cell_type": "markdown",
   "id": "5dec6280-ef03-48c1-83cf-2459073c4337",
   "metadata": {},
   "source": [
    "**Task 1. Classify Temperatures:**\n",
    "1. Create empty lists for temperature classifications:\n",
    "(a) Cold: temperatures below 10°C.\n",
    "(b) Mild: temperatures between 10°C and 15°C.\n",
    "(c) Comfortable: temperatures between 15°C and 20°C.\n",
    "2. Iterate over the temperatures list and add each temperature to the appropriate cate\u0002gory.\n",
    "3. Print the lists to verify the classifications."
   ]
  },
  {
   "cell_type": "code",
   "execution_count": 20,
   "id": "52512627-7294-4b81-a4be-05d0e846fff4",
   "metadata": {},
   "outputs": [
    {
     "name": "stdout",
     "output_type": "stream",
     "text": [
      "Cold temperatures: [8.2, 7.9, 9.0, 8.5, 7.7, 8.4, 9.5, 8.1, 7.6, 8.0, 7.8, 8.7, 9.2, 8.3, 8.9, 7.8]\n",
      "Mild temperatures: [14.1, 13.5, 13.0, 12.9, 13.3, 14.0, 13.4, 14.2, 12.8, 13.7, 13.6, 13.8, 13.9, 12.7, 13.1, 12.5]\n",
      "Comfortable temperatures: [17.4, 18.0, 17.8, 16.5, 17.2, 16.7, 18.3, 17.9, 17.0, 16.8, 17.5, 17.1, 18.1, 16.4, 18.2, 16.6]\n"
     ]
    }
   ],
   "source": [
    "cold = []\n",
    "mild = []\n",
    "comfortable = []\n",
    "\n",
    "# Temperature data from Tribhuwan International Airport\n",
    "temperatures = [\n",
    "    8.2, 17.4, 14.1, 7.9, 18.0, 13.5, 9.0, 17.8, 13.0, 8.5, \n",
    "    16.5, 12.9, 7.7, 17.2, 13.3, 8.4, 16.7, 14.0, 9.5, 18.3, \n",
    "    13.4, 8.1, 17.9, 14.2, 7.6, 17.0, 12.8, 8.0, 16.8, 13.7, \n",
    "    7.8, 17.5, 13.6, 8.7, 17.1, 13.8, 9.2, 18.1, 13.9, 8.3, \n",
    "    16.4, 12.7, 8.9, 18.2, 13.1, 7.8, 16.6, 12.5\n",
    "]\n",
    "\n",
    "#Iterate over the temperatures and classify them\n",
    "for temp in temperatures:\n",
    "    if temp < 10:\n",
    "        cold.append(temp)\n",
    "    elif 10 <= temp < 15:\n",
    "        mild.append(temp)\n",
    "    elif 15 <= temp < 20:\n",
    "        comfortable.append(temp)\n",
    "\n",
    "#Print the lists to verify the classifications\n",
    "print(\"Cold temperatures:\", cold)\n",
    "print(\"Mild temperatures:\", mild)\n",
    "print(\"Comfortable temperatures:\", comfortable)\n"
   ]
  },
  {
   "cell_type": "markdown",
   "id": "688f6cff-3508-425c-bf99-2f3aeab0ad93",
   "metadata": {},
   "source": [
    "**Task 2. Based on Data - Answer all the Questions:**\n",
    "1. How many times was it mild?\n",
    "(a) Hint: Count the number of items in the mild list and print the result.\n",
    "2. How many times was it comfortable?\n",
    "3. How many times was it cold?"
   ]
  },
  {
   "cell_type": "code",
   "execution_count": 24,
   "id": "29f850a7-875d-42c5-8297-8d2323edb755",
   "metadata": {},
   "outputs": [
    {
     "name": "stdout",
     "output_type": "stream",
     "text": [
      "the temperature was cold 16 times.\n",
      "the temperature was mild 16 times.\n",
      "the temperature was comfortable 16 times.\n"
     ]
    }
   ],
   "source": [
    "cold_temp = [8.2, 7.9, 9.0, 8.5, 7.7, 8.4, 9.5, 8.1, 7.6, 8.0, 7.8, 8.7, 9.2, 8.3, 8.9, 7.8]\n",
    "mild_temp = [14.1, 13.5, 13.0, 12.9, 13.3, 14.0, 13.4, 14.2, 12.8, 13.7, 13.6, 13.8, 13.9, 12.7, 13.1, 12.5]\n",
    "comfortable_temp = [17.4, 18.0, 17.8, 16.5, 17.2, 16.7, 18.3, 17.9, 17.0, 16.8, 17.5, 17.1, 18.1, 16.4, 18.2, 16.6]\n",
    "\n",
    "cold_count = len(cold_temp)\n",
    "mild_count = len(mild_temp)\n",
    "comfortable_count = len(comfortable_temp)\n",
    "\n",
    "\n",
    "print(\"the temperature was cold\", cold_count, \"times.\")\n",
    "print(\"the temperature was mild\", mild_count, \"times.\")\n",
    "print(\"the temperature was comfortable\", comfortable_count, \"times.\")\n",
    "\n"
   ]
  },
  {
   "cell_type": "markdown",
   "id": "9139060c-bb67-43f0-8027-dc6b070308f9",
   "metadata": {},
   "source": [
    "**Task 3. Convert Temperatures from Celsius to Fahrenheit**\n",
    "\n",
    "Using the formula for temperature conversion, convert each reading from Celsius to Fahrenheit and store it in a new list called temperatures_fahrenheit.\n",
    "Formula: Fahrenheit = (Celsius ×\n",
    "9/5) + 32\n",
    "1. Iterate over the temperatures list and apply the formula to convert each temperature.\n",
    "2. Store the results in the new list.\n",
    "3. Print the converted Fahrenheit values."
   ]
  },
  {
   "cell_type": "code",
   "execution_count": 30,
   "id": "f02b19e0-3905-4953-a1e9-a6a97439646c",
   "metadata": {},
   "outputs": [
    {
     "name": "stdout",
     "output_type": "stream",
     "text": [
      "Temperatures in Fahrenheit: [46.76, 63.32, 57.379999999999995, 46.22, 64.4, 56.3, 48.2, 64.04, 55.4, 47.3, 61.7, 55.22, 45.86, 62.959999999999994, 55.94, 47.120000000000005, 62.059999999999995, 57.2, 49.1, 64.94, 56.120000000000005, 46.58, 64.22, 57.56, 45.68, 62.6, 55.04, 46.4, 62.24, 56.66, 46.04, 63.5, 56.48, 47.66, 62.78, 56.84, 48.56, 64.58, 57.02, 46.94, 61.519999999999996, 54.86, 48.02, 64.75999999999999, 55.58, 46.04, 61.88, 54.5]\n"
     ]
    }
   ],
   "source": [
    "temperatures = [\n",
    "    8.2, 17.4, 14.1, 7.9, 18.0, 13.5, 9.0, 17.8, 13.0, 8.5, \n",
    "    16.5, 12.9, 7.7, 17.2, 13.3, 8.4, 16.7, 14.0, 9.5, 18.3, \n",
    "    13.4, 8.1, 17.9, 14.2, 7.6, 17.0, 12.8, 8.0, 16.8, 13.7, \n",
    "    7.8, 17.5, 13.6, 8.7, 17.1, 13.8, 9.2, 18.1, 13.9, 8.3, \n",
    "    16.4, 12.7, 8.9, 18.2, 13.1, 7.8, 16.6, 12.5\n",
    "]\n",
    "\n",
    "temperatures_fahrenheit = []\n",
    "\n",
    "for temp in temperatures:\n",
    "    fahrenheit = (temp * 9/5) + 32\n",
    "    temperatures_fahrenheit.append(fahrenheit)\n",
    "\n",
    "print(\"Temperatures in Fahrenheit:\", temperatures_fahrenheit)\n"
   ]
  },
  {
   "cell_type": "markdown",
   "id": "2eaf7696-2ec7-48de-8d5d-769e62da3e3b",
   "metadata": {},
   "source": [
    "**Task 4. Analyze Temperature Patterns by Time of Day:**\n",
    "\n",
    "Scenario: Each day’s readings are grouped as:\n",
    "• Night (00-08),\n",
    "• Evening (08-16),\n",
    "• Day (16-24).\n",
    "1. Create empty lists for night, day, and evening temperatures.\n",
    "2. Iterate over the temperatures list, assigning values to each time-of-day list based on\n",
    "their position.\n",
    "3. Calculate and print the average day-time temperature.\n",
    "4. (Optional) Plot ”day vs. temperature” using matplotlib"
   ]
  },
  {
   "cell_type": "code",
   "execution_count": 1,
   "id": "51d87647-1838-4e2c-b806-b1431b5ebcb8",
   "metadata": {},
   "outputs": [
    {
     "name": "stdout",
     "output_type": "stream",
     "text": [
      "The average daytime Temperature is: 13.41 °C\n"
     ]
    },
    {
     "data": {
      "image/png": "[encoded data removed]",
      "text/plain": [
       "<Figure size 640x480 with 1 Axes>"
      ]
     },
     "metadata": {},
     "output_type": "display_data"
    }
   ],
   "source": [
    "import matplotlib.pyplot as plt\n",
    "\n",
    "temperatures = [\n",
    "    8.2, 17.4, 14.1, 7.9, 18.0, 13.5, 9.0, 17.8, 13.0, 8.5, \n",
    "    16.5, 12.9, 7.7, 17.2, 13.3, 8.4, 16.7, 14.0, 9.5, 18.3, \n",
    "    13.4, 8.1, 17.9, 14.2, 7.6, 17.0, 12.8, 8.0, 16.8, 13.7, \n",
    "    7.8, 17.5, 13.6, 8.7, 17.1, 13.8, 9.2, 18.1, 13.9, 8.3, \n",
    "    16.4, 12.7, 8.9, 18.2, 13.1, 7.8, 16.6, 12.5\n",
    "]\n",
    "\n",
    "night_temps = []\n",
    "evening_temps = []\n",
    "day_temps = []\n",
    "\n",
    "for i in range(len(temperatures)):\n",
    "    if i % 3 == 0:\n",
    "        night_temps.append(temperatures[i])\n",
    "    elif i % 3 ==1:\n",
    "        evening_temps.append(temperatures[i])\n",
    "    else:\n",
    "        day_temps.append(temperatures[i])\n",
    "\n",
    "\n",
    "average_day_temp = sum(day_temps) / len(day_temps)\n",
    "print(f\"The average daytime Temperature is: {average_day_temp:.2f} °C\")\n",
    "\n",
    "plt.plot(day_temps, label=\"Daytime Temperatures\", marker= 'o')\n",
    "plt.xlabel(\"Day\")\n",
    "plt.ylabel(\"Temperature (°C)\")\n",
    "plt.title(\"Daytime Temperatures vs Day\")\n",
    "plt.legend()\n",
    "plt.grid(True)\n",
    "plt.show()    "
   ]
  },
  {
   "cell_type": "markdown",
   "id": "7274e8ca-5a0e-4c80-941e-446a01d4a7b0",
   "metadata": {},
   "source": [
    "**8.1.1 Exercise - Recursion:**\n",
    "\n",
    "**Task 1 - Sum of Nested Lists:**\n",
    "\n",
    "Scenario: You have a list that contains numbers and other lists of numbers (nested lists).\n",
    "You want to find the total sum of all the numbers in this structure.\n",
    "Task:\n",
    "• Write a recursive function sum_nested_list(nested_list) that:\n",
    "1. Takes a nested list (a list that can contain numbers or other lists of numbers) as\n",
    "input.\n",
    "2. Sums all numbers at every depth level of the list, regardless of how deeply nested\n",
    "the numbers are.\n",
    "• Test the function with a sample nested list, such as\n",
    "nested_list = [1, [2, [3, 4], 5], 6, [7, 8]].\n",
    "The result should be the total sum of all the numbers."
   ]
  },
  {
   "cell_type": "code",
   "execution_count": 5,
   "id": "103dc941-9a3b-480c-a89b-9e0d2bf96684",
   "metadata": {},
   "outputs": [
    {
     "name": "stdout",
     "output_type": "stream",
     "text": [
      "The total sum of all numbers in the nested list is: 36\n"
     ]
    }
   ],
   "source": [
    "def sum_nested_list(nested_list):\n",
    "    total_sum = 0 \n",
    "\n",
    "    for element in nested_list:\n",
    "        if isinstance(element,list): #check if the element is the list\n",
    "            total_sum += sum_nested_list(element) #Recursive call for nested list\n",
    "        else:\n",
    "            total_sum += element #add the number to the total sum\n",
    "    return total_sum #Return the total sum\n",
    "\n",
    "nested_list = [1, [2,[3,4],5],6,[7,8]]\n",
    "result = sum_nested_list(nested_list)\n",
    "print(\"The total sum of all numbers in the nested list is:\",result)\n",
    "    "
   ]
  },
  {
   "cell_type": "markdown",
   "id": "d730afbd-fa7b-43d6-8c32-dc15cd8ac940",
   "metadata": {},
   "source": [
    "**Task 2 - Generate All Permutations of a String:**\n",
    "\n",
    "Scenario: Given a string, generate all possible permutations of its characters. This is useful\n",
    "for understanding backtracking and recursive depth-first search.\n",
    "Task:\n",
    "• Write a recursive function generate_permutations(s) that:\n",
    "– Takes a string s as input and returns a list of all unique permutations.\n",
    "• Test with strings like ”abc” and ”aab”.\n",
    "print(generate_permutations(\"abc\"))\n",
    "Should return [’abc’, ’acb’, ’bac’, ’bca’, ’cab’, ’cba’]"
   ]
  },
  {
   "cell_type": "code",
   "execution_count": 18,
   "id": "7d29c55c-0d87-4dea-8eb0-e799156919b4",
   "metadata": {},
   "outputs": [
    {
     "name": "stdout",
     "output_type": "stream",
     "text": [
      "['bca', 'acb', 'abc', 'cab', 'bac', 'cba']\n",
      "['baa', 'aba', 'aab']\n"
     ]
    }
   ],
   "source": [
    "def generate_permutations(s):\n",
    "    # Base case: if the string is empty or has one character, return it as the only permutation\n",
    "    if len(s) <= 1:\n",
    "        return [s]\n",
    "    \n",
    "    # To store unique permutations\n",
    "    permutations = set()\n",
    "    \n",
    "    # Iterate over each character in the string\n",
    "    for i, char in enumerate(s):\n",
    "        # Generate permutations of the remaining characters\n",
    "        remaining = s[:i] + s[i+1:]  # Remaining characters after removing the current character\n",
    "        for perm in generate_permutations(remaining):\n",
    "            # Add the current character to the front of each permutation of the remaining characters\n",
    "            permutations.add(char + perm)\n",
    "    \n",
    "    return list(permutations)  # Convert set to list before returning\n",
    "\n",
    "# Test the function with different strings\n",
    "print(generate_permutations(\"abc\")) \n",
    "print(generate_permutations(\"aab\")) "
   ]
  },
  {
   "cell_type": "markdown",
   "id": "1dbcff5e-6cb1-4245-a3c4-ba326301b172",
   "metadata": {},
   "source": [
    "**Task 3 - Directory Size Calculation:**\n",
    "\n",
    "Directory Size Calculation Scenario: Imagine a file system where directories can contain files\n",
    "(with sizes in KB) and other directories. You want to calculate the total size of a directory,\n",
    "including all nested files and subdirectories.\n",
    "\n",
    "\n",
    "**Task:**\n",
    "1. Write a recursive function calculate_directory_size(directory) where:\n",
    "• directory is a dictionary where keys represent file names (with values as sizes in\n",
    "KB) or directory names (with values as another dictionary representing a subdi\u0002rectory).\n",
    "• The function should return the total size of the directory, including all nested\n",
    "subdirectories.\n",
    "2. Test the function with a sample directory structure."
   ]
  },
  {
   "cell_type": "code",
   "execution_count": 22,
   "id": "837a4d9b-c986-45e7-ac1d-2a65cdb2345e",
   "metadata": {},
   "outputs": [
    {
     "name": "stdout",
     "output_type": "stream",
     "text": [
      "Total size of the directory is: 1400 KB\n"
     ]
    }
   ],
   "source": [
    "def calculate_directory_size(directory):\n",
    "    total_size = 0 #Initialize total size to 0\n",
    "\n",
    "    for item, size in directory.items():\n",
    "        if isinstance(size, dict): #If the item is a directory\n",
    "\n",
    "            total_size += calculate_directory_size(size) #Recursively calculate size of the subdirectory\n",
    "\n",
    "        else:\n",
    "            total_size += size #Add the size of the file\n",
    "    return total_size #Return the total size\n",
    "\n",
    "\n",
    "directory_structure = {\n",
    "    \"file1.txt\": 200,\n",
    "    \"file2.txt\": 300,\n",
    "    \"subdir1\":{\n",
    "        \"file3.txt\":400,\n",
    "        \"file4.txt\": 100\n",
    "    },\n",
    "    \"subdir2\":{\n",
    "        \"subsubdir1\":{\n",
    "            \"file5.txt\": 250\n",
    "        },\n",
    "        \"file6.txt\":150\n",
    "    }\n",
    "}\n",
    "\n",
    "total_size = calculate_directory_size(directory_structure)\n",
    "print(\"Total size of the directory is:\", total_size, \"KB\")\n",
    "\n"
   ]
  },
  {
   "cell_type": "markdown",
   "id": "234b85c3-b30d-41ca-868a-f4ccebf1c005",
   "metadata": {},
   "source": [
    "**Additional Test Case**"
   ]
  },
  {
   "cell_type": "code",
   "execution_count": 29,
   "id": "5032521c-f348-4294-9753-7df1d81bc5ca",
   "metadata": {},
   "outputs": [
    {
     "name": "stdout",
     "output_type": "stream",
     "text": [
      "0\n",
      "300\n",
      "0\n",
      "1200\n"
     ]
    }
   ],
   "source": [
    "#Test case 1: Empty Directory\n",
    "\n",
    "empty_directory = {}\n",
    "print(calculate_directory_size(empty_directory)) \n",
    "\n",
    "#Test case 2: Directory with only files\n",
    "\n",
    "files_only ={\n",
    "    \"fileA.txt\": 100,\n",
    "    \"fileB.txt\": 200,\n",
    "}\n",
    "\n",
    "print(calculate_directory_size(files_only))\n",
    "\n",
    "#Test case 3: Nested Directories with no files\n",
    "nested_empty_dirs ={\n",
    "    \"empty_dir1\":{},\n",
    "    \"empty_dir2\":{\n",
    "        \"empty_dir3\":{}\n",
    "    }\n",
    "}\n",
    "print(calculate_directory_size(nested_empty_dirs))\n",
    "\n",
    "#Test case 4: Complex nested structure\n",
    "complex_structure ={\n",
    "    \"root_file.txt\":500,\n",
    "    \"dirA\":{\n",
    "        \"fileA1.txt\": 150,\n",
    "        \"dirA1\":{\n",
    "            \"fileA2.txt\":300\n",
    "        }\n",
    "    },\n",
    "    \"dirB\":{\n",
    "        \"dirB1\":{},\n",
    "        \"fileB1.txt\":250\n",
    "    }\n",
    "}\n",
    "\n",
    "print(calculate_directory_size(complex_structure))"
   ]
  },
  {
   "cell_type": "markdown",
   "id": "ccff05ea-b4b9-47ac-aad3-22551997b88f",
   "metadata": {},
   "source": [
    "**8.2.2 Exercises - Dynamic Programming:**\n",
    "\n",
    "**Task 1 - Coin Change Problem:**\n",
    "\n",
    "Scenario: Given a set of coin denominations and a target amount, find the minimum number\n",
    "of coins needed to make the amount. If it’s not possible, return - 1.\n",
    "Task:\n",
    "1. Write a function min_coins(coins, amount) that:\n",
    "• Uses DP to calculate the minimum number of coins needed to make up the\n",
    "amount.\n",
    "2. Test with coins = [1, 2, 5] and amount = 11. The result should be 3 (using coins\n",
    "[5, 5, 1]).\n"
   ]
  },
  {
   "cell_type": "code",
   "execution_count": 5,
   "id": "eb0b1a2d-d9bb-437b-9194-c18308de938a",
   "metadata": {},
   "outputs": [
    {
     "name": "stdout",
     "output_type": "stream",
     "text": [
      "3\n"
     ]
    }
   ],
   "source": [
    "def min_coins(coins, amount):\n",
    "    # Initialize a list to store the minimum coins for each amount up to the target\n",
    "    dp = [float('inf')] * (amount + 1)\n",
    "    dp[0] = 0  # Base case: 0 coins are needed to make amount 0\n",
    "\n",
    "    # Iterate through each coin denomination\n",
    "    for coin in coins:\n",
    "        # Update the dp array for all amounts from coin to target amount\n",
    "        for x in range(coin, amount + 1):\n",
    "            dp[x] = min(dp[x], dp[x - coin] + 1)\n",
    "\n",
    "    # If dp[amount] is still inf, it means it's not possible to form that amount\n",
    "    return dp[amount] if dp[amount] != float('inf') else -1\n",
    "\n",
    "# Test case\n",
    "coins = [1, 2, 5]\n",
    "amount = 11\n",
    "result = min_coins(coins, amount)\n",
    "print(result)"
   ]
  },
  {
   "cell_type": "markdown",
   "id": "89af557f-5e30-4358-ab40-6a2f94990cf8",
   "metadata": {},
   "source": [
    "**Task 2 - Longest Common Subsequence (LCS):**\n",
    "\n",
    "Scenario: Given two strings, find the length of their longest common subsequence (LCS).\n",
    "This is useful in text comparison.\n",
    "Task:\n",
    "1. Write a function longest_common_subsequence(s1, s2) that:\n",
    "• Uses DP to find the length of the LCS of two strings s1 and s2.\n",
    "2. Test with strings like \"abcde\" and \"ace\"; the LCS length should be 3 (\"ace\").\n"
   ]
  },
  {
   "cell_type": "code",
   "execution_count": 8,
   "id": "e3e94a53-a80d-4f30-b4ae-545f4dfd8e81",
   "metadata": {},
   "outputs": [
    {
     "name": "stdout",
     "output_type": "stream",
     "text": [
      "3\n"
     ]
    }
   ],
   "source": [
    "def longest_common_subsequence(s1, s2):\n",
    "    # Create a 2D array to store lengths of longest common subsequence\n",
    "    m, n = len(s1), len(s2)\n",
    "    dp = [[0] * (n + 1) for _ in range(m + 1)]\n",
    "\n",
    "    # Build the dp array\n",
    "    for i in range(1, m + 1):\n",
    "        for j in range(1, n + 1):\n",
    "            if s1[i - 1] == s2[j - 1]:  # Characters match\n",
    "                dp[i][j] = dp[i - 1][j - 1] + 1\n",
    "            else:  # Characters do not match\n",
    "                dp[i][j] = max(dp[i - 1][j], dp[i][j - 1])\n",
    "\n",
    "    # The length of the LCS is found at dp[m][n]\n",
    "    return dp[m][n]\n",
    "\n",
    "# Test case\n",
    "s1 = \"abcde\"\n",
    "s2 = \"ace\"\n",
    "result = longest_common_subsequence(s1, s2)\n",
    "print(result)"
   ]
  },
  {
   "cell_type": "markdown",
   "id": "c92f48b7-fed9-4c56-ad3b-a4d0b5ad1ec3",
   "metadata": {},
   "source": [
    "**Task 3 - 0/1 Knapsack Problem:**\n",
    "\n",
    "Scenario: You have a list of items, each with a weight and a value. Given a weight capacity,\n",
    "maximize the total value of items you can carry without exceeding the weight capacity.\n",
    "Task:\n",
    "1. Write a function knapsack(weights, values, capacity) that:\n",
    "• Uses DP to determine the maximum value that can be achieved within the given\n",
    "weight capacity.\n",
    "2. Test with weights [1, 3, 4, 5], values [1, 4, 5, 7], and capacity 7. The result should be 9.\n"
   ]
  },
  {
   "cell_type": "code",
   "execution_count": 13,
   "id": "9af66afa-74f7-4935-bf0b-33f3d493d9c8",
   "metadata": {},
   "outputs": [
    {
     "name": "stdout",
     "output_type": "stream",
     "text": [
      "9\n"
     ]
    }
   ],
   "source": [
    "def knapsack(weights, values, capacity):\n",
    "    n = len(weights)\n",
    "    # Create a 2D array to store the maximum value at each n and capacity\n",
    "    dp = [[0] * (capacity + 1) for _ in range(n + 1)]\n",
    "\n",
    "    # Build the dp array\n",
    "    for i in range(1, n + 1):\n",
    "        for w in range(1, capacity + 1):\n",
    "            if weights[i - 1] <= w:  # If the item can be included\n",
    "                dp[i][w] = max(dp[i - 1][w], dp[i - 1][w - weights[i - 1]] + values[i - 1])\n",
    "            else:  # If the item cannot be included\n",
    "                dp[i][w] = dp[i - 1][w]\n",
    "\n",
    "    # The maximum value is found at dp[n][capacity]\n",
    "    return dp[n][capacity]\n",
    "\n",
    "# Test case\n",
    "weights = [1, 3, 4, 5]\n",
    "values = [1, 4, 5, 7]\n",
    "capacity = 7\n",
    "result = knapsack(weights, values, capacity)\n",
    "print(result)  "
   ]
  }
 ],
 "metadata": {
  "kernelspec": {
   "display_name": "Python 3 (ipykernel)",
   "language": "python",
   "name": "python3"
  },
  "language_info": {
   "codemirror_mode": {
    "name": "ipython",
    "version": 3
   },
   "file_extension": ".py",
   "mimetype": "text/x-python",
   "name": "python",
   "nbconvert_exporter": "python",
   "pygments_lexer": "ipython3",
   "version": "3.12.7"
  }
 },
 "nbformat": 4,
 "nbformat_minor": 5
}
