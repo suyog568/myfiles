{
  "nbformat": 4,
  "nbformat_minor": 0,
  "metadata": {
    "colab": {
      "provenance": [],
      "mount_file_id": "1CUPy4i1csAylfmxRnKuJNC6MS0Ws08xD",
      "authorship_tag": "ABX9TyO2mMaVJ3jyzYIunLSm78FU",
      "include_colab_link": true
    },
    "kernelspec": {
      "name": "python3",
      "display_name": "Python 3"
    },
    "language_info": {
      "name": "python"
    }
  },
  "cells": [
    {
      "cell_type": "markdown",
      "metadata": {
        "id": "view-in-github",
        "colab_type": "text"
      },
      "source": [
        "<a href=\"https://colab.research.google.com/github/suyog568/myfiles/blob/main/Worksheet_Week4.ipynb\" target=\"_parent\"><img src=\"https://colab.research.google.com/assets/colab-badge.svg\" alt=\"Open In Colab\"/></a>"
      ]
    },
    {
      "cell_type": "markdown",
      "source": [
        "**Name: Suyog Bastakoti**\n",
        "\n",
        "**University Id: 2407093**\n",
        "\n",
        "**Module: Concepts & Technologies of AI**"
      ],
      "metadata": {
        "id": "ZXj24OBa1Rlj"
      }
    },
    {
      "cell_type": "markdown",
      "source": [
        "#Problem - 1: Perform a classification task with knn from scratch.\n",
        "1. Load the Dataset:\n",
        "\n",
        "• Read the dataset into a pandas DataFrame.\n",
        "\n",
        "• Display the first few rows and perform exploratory data analysis (EDA) to understand the dataset\n",
        "(e.g., check data types, missing values, summary statistics)."
      ],
      "metadata": {
        "id": "wQpsO4XV3c3P"
      }
    },
    {
      "cell_type": "code",
      "source": [
        "from google.colab import drive\n",
        "drive.mount('/content/drive')"
      ],
      "metadata": {
        "colab": {
          "base_uri": "https://localhost:8080/"
        },
        "id": "o_eAzU2P7Mud",
        "outputId": "5a465611-1f50-4135-d3b3-1b3234fa82d8"
      },
      "execution_count": 37,
      "outputs": [
        {
          "output_type": "stream",
          "name": "stdout",
          "text": [
            "Drive already mounted at /content/drive; to attempt to forcibly remount, call drive.mount(\"/content/drive\", force_remount=True).\n"
          ]
        }
      ]
    },
    {
      "cell_type": "code",
      "source": [
        "# Import necessary libraries\n",
        "import pandas as pd\n",
        "import numpy as np\n",
        "import time\n",
        "import matplotlib.pyplot as plt\n",
        "from sklearn.preprocessing import StandardScaler\n",
        "from sklearn.model_selection import train_test_split\n",
        "\n"
      ],
      "metadata": {
        "id": "LEjmmx6l8D9K"
      },
      "execution_count": 38,
      "outputs": []
    },
    {
      "cell_type": "code",
      "source": [
        "# Load the uploaded CSV file\n",
        "file_path = '/content/drive/MyDrive/Data Set /diabetes.csv'\n",
        "data = pd.read_csv(file_path)\n",
        "\n",
        "# Display the first few rows of the dataset and summary information for EDA\n",
        "data_head = data.head()\n",
        "data_info = data.info()\n",
        "data_summary = data.describe()\n",
        "\n",
        "data_head, data_info, data_summary"
      ],
      "metadata": {
        "colab": {
          "base_uri": "https://localhost:8080/"
        },
        "id": "1YUTYNt38JsJ",
        "outputId": "55586f0a-7bfb-40d8-8d74-7874cd8f2cb1"
      },
      "execution_count": 39,
      "outputs": [
        {
          "output_type": "stream",
          "name": "stdout",
          "text": [
            "<class 'pandas.core.frame.DataFrame'>\n",
            "RangeIndex: 768 entries, 0 to 767\n",
            "Data columns (total 9 columns):\n",
            " #   Column                    Non-Null Count  Dtype  \n",
            "---  ------                    --------------  -----  \n",
            " 0   Pregnancies               768 non-null    int64  \n",
            " 1   Glucose                   768 non-null    int64  \n",
            " 2   BloodPressure             768 non-null    int64  \n",
            " 3   SkinThickness             768 non-null    int64  \n",
            " 4   Insulin                   768 non-null    int64  \n",
            " 5   BMI                       768 non-null    float64\n",
            " 6   DiabetesPedigreeFunction  768 non-null    float64\n",
            " 7   Age                       768 non-null    int64  \n",
            " 8   Outcome                   768 non-null    int64  \n",
            "dtypes: float64(2), int64(7)\n",
            "memory usage: 54.1 KB\n"
          ]
        },
        {
          "output_type": "execute_result",
          "data": {
            "text/plain": [
              "(   Pregnancies  Glucose  BloodPressure  SkinThickness  Insulin   BMI  \\\n",
              " 0            6      148             72             35        0  33.6   \n",
              " 1            1       85             66             29        0  26.6   \n",
              " 2            8      183             64              0        0  23.3   \n",
              " 3            1       89             66             23       94  28.1   \n",
              " 4            0      137             40             35      168  43.1   \n",
              " \n",
              "    DiabetesPedigreeFunction  Age  Outcome  \n",
              " 0                     0.627   50        1  \n",
              " 1                     0.351   31        0  \n",
              " 2                     0.672   32        1  \n",
              " 3                     0.167   21        0  \n",
              " 4                     2.288   33        1  ,\n",
              " None,\n",
              "        Pregnancies     Glucose  BloodPressure  SkinThickness     Insulin  \\\n",
              " count   768.000000  768.000000     768.000000     768.000000  768.000000   \n",
              " mean      3.845052  120.894531      69.105469      20.536458   79.799479   \n",
              " std       3.369578   31.972618      19.355807      15.952218  115.244002   \n",
              " min       0.000000    0.000000       0.000000       0.000000    0.000000   \n",
              " 25%       1.000000   99.000000      62.000000       0.000000    0.000000   \n",
              " 50%       3.000000  117.000000      72.000000      23.000000   30.500000   \n",
              " 75%       6.000000  140.250000      80.000000      32.000000  127.250000   \n",
              " max      17.000000  199.000000     122.000000      99.000000  846.000000   \n",
              " \n",
              "               BMI  DiabetesPedigreeFunction         Age     Outcome  \n",
              " count  768.000000                768.000000  768.000000  768.000000  \n",
              " mean    31.992578                  0.471876   33.240885    0.348958  \n",
              " std      7.884160                  0.331329   11.760232    0.476951  \n",
              " min      0.000000                  0.078000   21.000000    0.000000  \n",
              " 25%     27.300000                  0.243750   24.000000    0.000000  \n",
              " 50%     32.000000                  0.372500   29.000000    0.000000  \n",
              " 75%     36.600000                  0.626250   41.000000    1.000000  \n",
              " max     67.100000                  2.420000   81.000000    1.000000  )"
            ]
          },
          "metadata": {},
          "execution_count": 39
        }
      ]
    },
    {
      "cell_type": "markdown",
      "source": [
        "#2. Handle Missing Data:\n",
        "• Handle any missing values appropriately, either by dropping or imputing them based on the data."
      ],
      "metadata": {
        "id": "h-DNsfKQ8z4q"
      }
    },
    {
      "cell_type": "code",
      "source": [
        "# Replace zeros in specific columns with NaN to handle missing/erroneous data\n",
        "columns_with_potential_issues = ['Glucose', 'BloodPressure', 'SkinThickness', 'Insulin', 'BMI']\n",
        "data[columns_with_potential_issues] = data[columns_with_potential_issues].replace(0, pd.NA)\n",
        "\n",
        "# Check for missing values after replacement\n",
        "missing_values_summary = data.isnull().sum()\n",
        "\n",
        "missing_values_summary\n"
      ],
      "metadata": {
        "colab": {
          "base_uri": "https://localhost:8080/",
          "height": 0
        },
        "id": "z7K0JbfG9qAq",
        "outputId": "22bce24b-aeb5-4bf5-d2d7-235d7f5a66d8"
      },
      "execution_count": 40,
      "outputs": [
        {
          "output_type": "execute_result",
          "data": {
            "text/plain": [
              "Pregnancies                   0\n",
              "Glucose                       5\n",
              "BloodPressure                35\n",
              "SkinThickness               227\n",
              "Insulin                     374\n",
              "BMI                          11\n",
              "DiabetesPedigreeFunction      0\n",
              "Age                           0\n",
              "Outcome                       0\n",
              "dtype: int64"
            ],
            "text/html": [
              "<div>\n",
              "<style scoped>\n",
              "    .dataframe tbody tr th:only-of-type {\n",
              "        vertical-align: middle;\n",
              "    }\n",
              "\n",
              "    .dataframe tbody tr th {\n",
              "        vertical-align: top;\n",
              "    }\n",
              "\n",
              "    .dataframe thead th {\n",
              "        text-align: right;\n",
              "    }\n",
              "</style>\n",
              "<table border=\"1\" class=\"dataframe\">\n",
              "  <thead>\n",
              "    <tr style=\"text-align: right;\">\n",
              "      <th></th>\n",
              "      <th>0</th>\n",
              "    </tr>\n",
              "  </thead>\n",
              "  <tbody>\n",
              "    <tr>\n",
              "      <th>Pregnancies</th>\n",
              "      <td>0</td>\n",
              "    </tr>\n",
              "    <tr>\n",
              "      <th>Glucose</th>\n",
              "      <td>5</td>\n",
              "    </tr>\n",
              "    <tr>\n",
              "      <th>BloodPressure</th>\n",
              "      <td>35</td>\n",
              "    </tr>\n",
              "    <tr>\n",
              "      <th>SkinThickness</th>\n",
              "      <td>227</td>\n",
              "    </tr>\n",
              "    <tr>\n",
              "      <th>Insulin</th>\n",
              "      <td>374</td>\n",
              "    </tr>\n",
              "    <tr>\n",
              "      <th>BMI</th>\n",
              "      <td>11</td>\n",
              "    </tr>\n",
              "    <tr>\n",
              "      <th>DiabetesPedigreeFunction</th>\n",
              "      <td>0</td>\n",
              "    </tr>\n",
              "    <tr>\n",
              "      <th>Age</th>\n",
              "      <td>0</td>\n",
              "    </tr>\n",
              "    <tr>\n",
              "      <th>Outcome</th>\n",
              "      <td>0</td>\n",
              "    </tr>\n",
              "  </tbody>\n",
              "</table>\n",
              "</div><br><label><b>dtype:</b> int64</label>"
            ]
          },
          "metadata": {},
          "execution_count": 40
        }
      ]
    },
    {
      "cell_type": "code",
      "source": [
        "# Impute missing values with the median for each column\n",
        "data[columns_with_potential_issues] = data[columns_with_potential_issues].fillna(data[columns_with_potential_issues].median())\n",
        "\n",
        "# Verify if all missing values are handled\n",
        "missing_values_after_imputation = data.isnull().sum()\n",
        "\n",
        "missing_values_after_imputation\n"
      ],
      "metadata": {
        "colab": {
          "base_uri": "https://localhost:8080/",
          "height": 0
        },
        "id": "S6iFdQHY-oV6",
        "outputId": "5c82c788-3418-4cb8-caf1-19124ae5b4d7"
      },
      "execution_count": 41,
      "outputs": [
        {
          "output_type": "stream",
          "name": "stderr",
          "text": [
            "<ipython-input-41-64c7704d7fb9>:2: FutureWarning: Downcasting object dtype arrays on .fillna, .ffill, .bfill is deprecated and will change in a future version. Call result.infer_objects(copy=False) instead. To opt-in to the future behavior, set `pd.set_option('future.no_silent_downcasting', True)`\n",
            "  data[columns_with_potential_issues] = data[columns_with_potential_issues].fillna(data[columns_with_potential_issues].median())\n"
          ]
        },
        {
          "output_type": "execute_result",
          "data": {
            "text/plain": [
              "Pregnancies                 0\n",
              "Glucose                     0\n",
              "BloodPressure               0\n",
              "SkinThickness               0\n",
              "Insulin                     0\n",
              "BMI                         0\n",
              "DiabetesPedigreeFunction    0\n",
              "Age                         0\n",
              "Outcome                     0\n",
              "dtype: int64"
            ],
            "text/html": [
              "<div>\n",
              "<style scoped>\n",
              "    .dataframe tbody tr th:only-of-type {\n",
              "        vertical-align: middle;\n",
              "    }\n",
              "\n",
              "    .dataframe tbody tr th {\n",
              "        vertical-align: top;\n",
              "    }\n",
              "\n",
              "    .dataframe thead th {\n",
              "        text-align: right;\n",
              "    }\n",
              "</style>\n",
              "<table border=\"1\" class=\"dataframe\">\n",
              "  <thead>\n",
              "    <tr style=\"text-align: right;\">\n",
              "      <th></th>\n",
              "      <th>0</th>\n",
              "    </tr>\n",
              "  </thead>\n",
              "  <tbody>\n",
              "    <tr>\n",
              "      <th>Pregnancies</th>\n",
              "      <td>0</td>\n",
              "    </tr>\n",
              "    <tr>\n",
              "      <th>Glucose</th>\n",
              "      <td>0</td>\n",
              "    </tr>\n",
              "    <tr>\n",
              "      <th>BloodPressure</th>\n",
              "      <td>0</td>\n",
              "    </tr>\n",
              "    <tr>\n",
              "      <th>SkinThickness</th>\n",
              "      <td>0</td>\n",
              "    </tr>\n",
              "    <tr>\n",
              "      <th>Insulin</th>\n",
              "      <td>0</td>\n",
              "    </tr>\n",
              "    <tr>\n",
              "      <th>BMI</th>\n",
              "      <td>0</td>\n",
              "    </tr>\n",
              "    <tr>\n",
              "      <th>DiabetesPedigreeFunction</th>\n",
              "      <td>0</td>\n",
              "    </tr>\n",
              "    <tr>\n",
              "      <th>Age</th>\n",
              "      <td>0</td>\n",
              "    </tr>\n",
              "    <tr>\n",
              "      <th>Outcome</th>\n",
              "      <td>0</td>\n",
              "    </tr>\n",
              "  </tbody>\n",
              "</table>\n",
              "</div><br><label><b>dtype:</b> int64</label>"
            ]
          },
          "metadata": {},
          "execution_count": 41
        }
      ]
    },
    {
      "cell_type": "markdown",
      "source": [
        "#3. Feature Engineering:\n",
        "• Separate the feature matrix (X) and target variable (y).\n",
        "\n",
        "• Perform a train - test split from scratch using a 70% − 30% ratio."
      ],
      "metadata": {
        "id": "uYtfyOEQ-7k2"
      }
    },
    {
      "cell_type": "code",
      "source": [
        "import numpy as np\n",
        "\n",
        "# Separate features (X) and target (y)\n",
        "X = data.drop(columns=['Outcome'])\n",
        "y = data['Outcome']\n",
        "\n",
        "# Perform a train-test split with 70%-30% ratio\n",
        "np.random.seed(42)  # Set seed for reproducibility\n",
        "shuffle_indices = np.random.permutation(len(data))\n",
        "split_index = int(len(data) * 0.7)\n",
        "\n",
        "# Split the data into training and testing sets\n",
        "train_indices, test_indices = shuffle_indices[:split_index], shuffle_indices[split_index:]\n",
        "X_train, X_test = X.iloc[train_indices], X.iloc[test_indices]\n",
        "y_train, y_test = y.iloc[train_indices], y.iloc[test_indices]\n",
        "\n",
        "# Confirm the shapes of the train and test sets\n",
        "train_test_shapes = (X_train.shape, X_test.shape, y_train.shape, y_test.shape)\n",
        "\n",
        "train_test_shapes\n"
      ],
      "metadata": {
        "colab": {
          "base_uri": "https://localhost:8080/"
        },
        "id": "gtV5MKsW-_Ua",
        "outputId": "545c6646-a37c-4961-d555-4072647596fe"
      },
      "execution_count": 42,
      "outputs": [
        {
          "output_type": "execute_result",
          "data": {
            "text/plain": [
              "((537, 8), (231, 8), (537,), (231,))"
            ]
          },
          "metadata": {},
          "execution_count": 42
        }
      ]
    },
    {
      "cell_type": "markdown",
      "source": [
        "#4. Implement KNN:\n",
        "• Build the KNN algorithm from scratch (no libraries like sickit-learn for KNN).\n",
        "\n",
        "• Compute distances using Euclidean distance.\n",
        "\n",
        "• Write functions for:\n",
        "\n",
        "– Predicting the class for a single query.\n",
        "\n",
        "– Predicting classes for all test samples.\n",
        "\n",
        "• Evaluate the performance using accuracy."
      ],
      "metadata": {
        "id": "hEZXgRzPDgH5"
      }
    },
    {
      "cell_type": "code",
      "source": [
        "import numpy as np\n",
        "\n",
        "# Step 1: Define the Euclidean distance function\n",
        "def euclidean_distance(point1, point2):\n",
        "    return np.sqrt(np.sum((point1 - point2) ** 2))\n",
        "\n",
        "# Step 2: Define a function to predict the class of a single query\n",
        "def predict_single(query, X_train, y_train, k=3):\n",
        "    # Calculate distances between the query and all training points\n",
        "    distances = [euclidean_distance(query, train_point) for train_point in X_train.values]\n",
        "\n",
        "    # Get the indices of the k nearest neighbors\n",
        "    nearest_neighbors_indices = np.argsort(distances)[:k]\n",
        "\n",
        "    # Retrieve the corresponding labels\n",
        "    nearest_labels = y_train.iloc[nearest_neighbors_indices]\n",
        "\n",
        "    # Perform majority voting to determine the predicted class\n",
        "    prediction = nearest_labels.value_counts().idxmax()\n",
        "\n",
        "    return prediction\n",
        "\n",
        "# Step 3: Define a function to predict classes for all test samples\n",
        "def predict_all(X_test, X_train, y_train, k=3):\n",
        "    predictions = [predict_single(query, X_train, y_train, k) for query in X_test.values]\n",
        "    return np.array(predictions)\n",
        "\n",
        "# Step 4: Evaluate performance using accuracy\n",
        "def evaluate_accuracy(y_true, y_pred):\n",
        "    return np.mean(y_true == y_pred)\n",
        "\n",
        "# Predict classes for the test set\n",
        "k = 3  # Number of neighbors\n",
        "y_pred = predict_all(X_test, X_train, y_train, k)\n",
        "\n",
        "# Evaluate accuracy\n",
        "accuracy = evaluate_accuracy(y_test.values, y_pred)\n",
        "\n",
        "accuracy\n"
      ],
      "metadata": {
        "colab": {
          "base_uri": "https://localhost:8080/"
        },
        "id": "rCXrDvaRDkXx",
        "outputId": "5e1205fd-9741-4fb0-c70f-70df2adf7bb8"
      },
      "execution_count": 44,
      "outputs": [
        {
          "output_type": "execute_result",
          "data": {
            "text/plain": [
              "0.696969696969697"
            ]
          },
          "metadata": {},
          "execution_count": 44
        }
      ]
    },
    {
      "cell_type": "markdown",
      "source": [
        "#Problem - 2 - Experimentation:\n",
        "1. Repeat the Classification Task:\n",
        "\n",
        "  • Scale the Feature matrix X.\n",
        "\n",
        "  • Use the scaled data for training and testing the kNN Classifier.\n",
        "\n",
        "  • Record the results.\n"
      ],
      "metadata": {
        "id": "CVP8hu9vU0bN"
      }
    },
    {
      "cell_type": "markdown",
      "source": [
        "**Import Necessary Libraries**"
      ],
      "metadata": {
        "id": "2V8hlKU7Wrjb"
      }
    },
    {
      "cell_type": "code",
      "source": [
        "#Import Necessary Libraries\n",
        "import pandas as pd\n",
        "import numpy as np\n",
        "from sklearn.preprocessing import StandardScaler\n",
        "from sklearn.model_selection import train_test_split\n"
      ],
      "metadata": {
        "id": "9rPdWfXjU5ih"
      },
      "execution_count": 45,
      "outputs": []
    },
    {
      "cell_type": "markdown",
      "source": [
        "**Load the Dataset**"
      ],
      "metadata": {
        "id": "IL6a-kOUWmTD"
      }
    },
    {
      "cell_type": "code",
      "source": [
        "# Load the dataset\n",
        "file_path = '/content/drive/MyDrive/Data Set /diabetes.csv'\n",
        "data = pd.read_csv(file_path)\n",
        "\n",
        "# Replace zeros in specific columns with NaN to handle missing/erroneous data\n",
        "columns_with_potential_issues = ['Glucose', 'BloodPressure', 'SkinThickness', 'Insulin', 'BMI']\n",
        "\n",
        "# Ensure these columns are numeric\n",
        "for column in columns_with_potential_issues:\n",
        "    data[column] = pd.to_numeric(data[column], errors='coerce')\n",
        "\n",
        "# Impute missing values with the median for each column\n",
        "data[columns_with_potential_issues] = data[columns_with_potential_issues].fillna(data[columns_with_potential_issues].median())\n",
        "\n",
        "# Optionally infer objects if needed\n",
        "data = data.infer_objects()\n"
      ],
      "metadata": {
        "id": "tuSmy3XwWwNe"
      },
      "execution_count": 46,
      "outputs": []
    },
    {
      "cell_type": "markdown",
      "source": [
        "**Separate Features and Target Variable**"
      ],
      "metadata": {
        "id": "FOJJniMwXdOV"
      }
    },
    {
      "cell_type": "code",
      "source": [
        "# Separate features (X) and target (y)\n",
        "X = data.drop(columns=['Outcome'])\n",
        "y = data['Outcome']\n"
      ],
      "metadata": {
        "id": "P4Q6I3BsX2VE"
      },
      "execution_count": 47,
      "outputs": []
    },
    {
      "cell_type": "markdown",
      "source": [
        "**Scale the Feature Matrix**"
      ],
      "metadata": {
        "id": "jg8h_ugYX4v0"
      }
    },
    {
      "cell_type": "code",
      "source": [
        "# Scale the feature matrix X\n",
        "scaler = StandardScaler()\n",
        "X_scaled = scaler.fit_transform(X)\n"
      ],
      "metadata": {
        "id": "n6qsLrkoX8LA"
      },
      "execution_count": 48,
      "outputs": []
    },
    {
      "cell_type": "markdown",
      "source": [
        "**Train-Test Split**"
      ],
      "metadata": {
        "id": "DInGOjL4X-Cv"
      }
    },
    {
      "cell_type": "code",
      "source": [
        "# Perform a train-test split with 70%-30% ratio\n",
        "X_train, X_test, y_train, y_test = train_test_split(X_scaled, y, test_size=0.3, random_state=42)\n"
      ],
      "metadata": {
        "id": "5qHSkUXpYDEJ"
      },
      "execution_count": 49,
      "outputs": []
    },
    {
      "cell_type": "markdown",
      "source": [
        "**Define KNN Functions**"
      ],
      "metadata": {
        "id": "lqmOZypRYFAy"
      }
    },
    {
      "cell_type": "code",
      "source": [
        "# Define Euclidean distance function\n",
        "def euclidean_distance(point1, point2):\n",
        "    return np.sqrt(np.sum((point1 - point2) ** 2))\n",
        "\n",
        "# Predict class for a single query\n",
        "def predict_single(query, X_train, y_train, k=3):\n",
        "    distances = [euclidean_distance(query, train_point) for train_point in X_train]\n",
        "    nearest_neighbors_indices = np.argsort(distances)[:k]\n",
        "    nearest_labels = y_train.iloc[nearest_neighbors_indices]\n",
        "    prediction = nearest_labels.value_counts().idxmax()\n",
        "    return prediction\n",
        "\n",
        "# Predict classes for all test samples\n",
        "def predict_all(X_test, X_train, y_train, k=3):\n",
        "    predictions = [predict_single(query, X_train, y_train, k) for query in X_test]\n",
        "    return np.array(predictions)\n"
      ],
      "metadata": {
        "id": "UnQrqbjfYJUr"
      },
      "execution_count": 50,
      "outputs": []
    },
    {
      "cell_type": "markdown",
      "source": [
        "**Evaluate Performance Using Accuracy**"
      ],
      "metadata": {
        "id": "7dhPtJ0iYMJ-"
      }
    },
    {
      "cell_type": "code",
      "source": [
        "# Evaluate performance using accuracy\n",
        "def evaluate_accuracy(y_true, y_pred):\n",
        "    return np.mean(y_true == y_pred)\n",
        "\n",
        "# Predict classes for the test set\n",
        "k = 3  # Number of neighbors\n",
        "y_pred = predict_all(X_test, X_train, y_train, k)\n",
        "\n",
        "# Evaluate accuracy\n",
        "accuracy = evaluate_accuracy(y_test.values, y_pred)\n",
        "\n",
        "print(f'Accuracy of KNN Classifier with Scaled Data: {accuracy:.2f}')\n"
      ],
      "metadata": {
        "colab": {
          "base_uri": "https://localhost:8080/"
        },
        "id": "cFoZ1lFFYUGp",
        "outputId": "453f1675-c456-4ac0-a50a-c4d326d7e5d1"
      },
      "execution_count": 51,
      "outputs": [
        {
          "output_type": "stream",
          "name": "stdout",
          "text": [
            "Accuracy of KNN Classifier with Scaled Data: 0.71\n"
          ]
        }
      ]
    },
    {
      "cell_type": "markdown",
      "source": [
        "**Comparative Analysis of KNN Model Performance:**\n",
        "\n",
        "**Accuracy Results:**\n",
        "\n",
        "Accuracy on Original Dataset: 0.6969 (approximately 69.69%)\n",
        "\n",
        "Accuracy on Scaled Dataset: 0.71 (approximately 71%)"
      ],
      "metadata": {
        "id": "Z6_CYF46Y9HD"
      }
    },
    {
      "cell_type": "markdown",
      "source": [
        "**Discussion**\n",
        "\n",
        "**- How scaling impacted the KNN performance.**"
      ],
      "metadata": {
        "id": "z_UFqbhkbra4"
      }
    },
    {
      "cell_type": "markdown",
      "source": [
        "Scaling the feature matrix before implementing the KNN on the set improved the results for this model, ranging from around 69.69% to 71% for accuracy. Given these data, here's why feature scaling improved it:\n",
        "Equal Weightage to Features: In the original dataset, features with larger ranges, such as Glucose or BMI, may disproportionately influence the distance calculations and lead to biased predictions. Scaling ensures that all features contribute equally to the distance metric used in KNN.\n",
        "Standardizing the features better captures distances among data points, which better reflects their actual relationships; very important to KNN, which selects nearest neighbors based on such distances.\n",
        "Noise Reduction: Scaling will, therefore, have the effect of working in real time for all features in similar ranges while making life easy for an algorithm to dig up some patterns."
      ],
      "metadata": {
        "id": "xsTKv_8db8hP"
      }
    },
    {
      "cell_type": "markdown",
      "source": [
        "**- The reason for any observed changes in accuracy.**"
      ],
      "metadata": {
        "id": "MtrNRi6IccOi"
      }
    },
    {
      "cell_type": "markdown",
      "source": [
        "The observed increase in accuracy when using scaled data can be attributed to several factors. First, scaling enhances **better generalization** by helping the KNN algorithm avoid overfitting to features with larger values, which ultimately leads to improved performance on unseen data. Second, it promotes **enhanced model robustness**, making the model more resilient to variations in feature distributions, thereby allowing it to perform better across different test samples. Finally, due to KNN's inherent **distance sensitivity**, scaling ensures that all features are measured on a comparable scale, which significantly improves the reliability of neighbor selection and contributes to more accurate predictions."
      ],
      "metadata": {
        "id": "i5mVZRxjce_x"
      }
    },
    {
      "cell_type": "markdown",
      "source": [
        "#Problem - 3 - Experimentation with k:\n",
        "\n",
        "1. Vary the number of neighbors - k:\n",
        "\n",
        "• Run the KNN model on both the original and scaled datasets for a range of:\n",
        "\n",
        "k= 1, 2, 3, . . . 15\n",
        "\n",
        "• For each k, record:\n",
        "\n",
        "– Accuracy.\n",
        "\n",
        "– Time taken to make predictions.\n",
        "\n",
        "2. Visualize the Results:\n",
        "\n",
        "• Plot the following graphs:\n",
        "\n",
        "– k vs. Accuracy for original and scaled datasets.\n",
        "\n",
        "– k vs. Time Taken for original and scaled datasets."
      ],
      "metadata": {
        "id": "3hwxz__admq9"
      }
    },
    {
      "cell_type": "code",
      "source": [
        "# Load the dataset\n",
        "file_path = '/content/drive/MyDrive/Data Set /diabetes.csv'\n",
        "data = pd.read_csv(file_path)\n",
        "\n",
        "# Replace zeros in specific columns with NaN to handle missing/erroneous data\n",
        "columns_with_potential_issues = ['Glucose', 'BloodPressure', 'SkinThickness', 'Insulin', 'BMI']\n",
        "data[columns_with_potential_issues] = data[columns_with_potential_issues].replace(0, pd.NA)\n",
        "\n",
        "# Impute missing values with the median for each column\n",
        "data[columns_with_potential_issues] = data[columns_with_potential_issues].fillna(data[columns_with_potential_issues].median())\n",
        "\n",
        "# Separate features (X) and target (y)\n",
        "X = data.drop(columns=['Outcome'])\n",
        "y = data['Outcome']\n",
        "\n",
        "# Scale the feature matrix X for scaled dataset\n",
        "scaler = StandardScaler()\n",
        "X_scaled = scaler.fit_transform(X)\n"
      ],
      "metadata": {
        "colab": {
          "base_uri": "https://localhost:8080/"
        },
        "id": "x6ViwLhskRL_",
        "outputId": "5202409f-7937-4448-fdb8-dcd6f77e439c"
      },
      "execution_count": 52,
      "outputs": [
        {
          "output_type": "stream",
          "name": "stderr",
          "text": [
            "<ipython-input-52-a2ee9ab8844f>:10: FutureWarning: Downcasting object dtype arrays on .fillna, .ffill, .bfill is deprecated and will change in a future version. Call result.infer_objects(copy=False) instead. To opt-in to the future behavior, set `pd.set_option('future.no_silent_downcasting', True)`\n",
            "  data[columns_with_potential_issues] = data[columns_with_potential_issues].fillna(data[columns_with_potential_issues].median())\n"
          ]
        }
      ]
    },
    {
      "cell_type": "code",
      "source": [
        "# Define Euclidean distance function\n",
        "def euclidean_distance(point1, point2):\n",
        "    return np.sqrt(np.sum((point1 - point2) ** 2))\n",
        "\n",
        "# Predict class for a single query\n",
        "def predict_single(query, X_train, y_train, k=3):\n",
        "    distances = [euclidean_distance(query, train_point) for train_point in X_train]\n",
        "    nearest_neighbors_indices = np.argsort(distances)[:k]\n",
        "    nearest_labels = y_train.iloc[nearest_neighbors_indices]\n",
        "    prediction = nearest_labels.value_counts().idxmax()\n",
        "    return prediction\n",
        "\n",
        "# Predict classes for all test samples\n",
        "def predict_all(X_test, X_train, y_train, k=3):\n",
        "    predictions = [predict_single(query, X_train, y_train, k) for query in X_test]\n",
        "    return np.array(predictions)\n"
      ],
      "metadata": {
        "id": "8ka8zxifkWtM"
      },
      "execution_count": 53,
      "outputs": []
    },
    {
      "cell_type": "code",
      "source": [
        "# Initialize lists to store results\n",
        "k_values = list(range(1, 16))\n",
        "accuracy_original = []\n",
        "accuracy_scaled = []\n",
        "time_taken_original = []\n",
        "time_taken_scaled = []\n",
        "\n",
        "# Split data into training and testing sets (70%-30%)\n",
        "X_train, X_test, y_train, y_test = train_test_split(X, y, test_size=0.3, random_state=42)\n",
        "X_scaled_train, X_scaled_test, y_scaled_train, y_scaled_test = train_test_split(X_scaled, y, test_size=0.3, random_state=42)\n",
        "\n",
        "# Run experiments for original dataset\n",
        "for k in k_values:\n",
        "    start_time = time.time()\n",
        "    y_pred_original = predict_all(X_test.values, X_train.values, y_train, k)\n",
        "    end_time = time.time()\n",
        "\n",
        "    accuracy_original.append(np.mean(y_test.values == y_pred_original))\n",
        "    time_taken_original.append(end_time - start_time)\n",
        "\n",
        "# Run experiments for scaled dataset\n",
        "for k in k_values:\n",
        "    start_time = time.time()\n",
        "    y_pred_scaled = predict_all(X_scaled_test, X_scaled_train, y_scaled_train, k)\n",
        "    end_time = time.time()\n",
        "\n",
        "    accuracy_scaled.append(np.mean(y_scaled_test == y_pred_scaled))\n",
        "    time_taken_scaled.append(end_time - start_time)\n"
      ],
      "metadata": {
        "id": "W06K_PAGdpbt"
      },
      "execution_count": 54,
      "outputs": []
    },
    {
      "cell_type": "markdown",
      "source": [
        "**Visualize Results**"
      ],
      "metadata": {
        "id": "rM79_uDtgxLY"
      }
    },
    {
      "cell_type": "code",
      "source": [
        "# Plot accuracy vs. k\n",
        "plt.figure(figsize=(12, 6))\n",
        "plt.subplot(1, 2, 1)\n",
        "plt.plot(k_values, accuracy_original, label='Original Dataset', marker='o')\n",
        "plt.plot(k_values, accuracy_scaled, label='Scaled Dataset', marker='o')\n",
        "plt.title('k vs Accuracy')\n",
        "plt.xlabel('Number of Neighbors (k)')\n",
        "plt.ylabel('Accuracy')\n",
        "plt.xticks(k_values)\n",
        "plt.legend()"
      ],
      "metadata": {
        "colab": {
          "base_uri": "https://localhost:8080/",
          "height": 581
        },
        "id": "DqNfDg3_gpIW",
        "outputId": "5d0fe174-0b1e-4929-ad6b-a00ee467bacb"
      },
      "execution_count": 55,
      "outputs": [
        {
          "output_type": "execute_result",
          "data": {
            "text/plain": [
              "<matplotlib.legend.Legend at 0x79fcf1865990>"
            ]
          },
          "metadata": {},
          "execution_count": 55
        },
        {
          "output_type": "display_data",
          "data": {
            "text/plain": [
              "<Figure size 1200x600 with 1 Axes>"
            ],
            "image/png": "[encoded data removed]"
          },
          "metadata": {}
        }
      ]
    },
    {
      "cell_type": "code",
      "source": [
        "# Plot time taken vs. k\n",
        "plt.figure(figsize=(12, 6))\n",
        "plt.subplot(1, 2, 2)\n",
        "plt.plot(k_values, time_taken_original, label='Original Dataset', marker='o')\n",
        "plt.plot(k_values, time_taken_scaled, label='Scaled Dataset', marker='o')\n",
        "plt.title('k vs Time Taken')\n",
        "plt.xlabel('Number of Neighbors (k)')\n",
        "plt.ylabel('Time Taken (seconds)')\n",
        "plt.xticks(k_values)\n",
        "plt.legend()\n",
        "\n",
        "plt.tight_layout()\n",
        "plt.show()"
      ],
      "metadata": {
        "colab": {
          "base_uri": "https://localhost:8080/",
          "height": 607
        },
        "id": "xonFoB7qg_lP",
        "outputId": "6e834305-0922-4dda-8084-9357cb693831"
      },
      "execution_count": 56,
      "outputs": [
        {
          "output_type": "display_data",
          "data": {
            "text/plain": [
              "<Figure size 1200x600 with 1 Axes>"
            ],
            "image/png": "[encoded data removed]"
          },
          "metadata": {}
        }
      ]
    },
    {
      "cell_type": "markdown",
      "source": [
        "#3. Analyze and Discuss:\n",
        "**• Discuss how the choice of k affects the accuracy and computational cost.**"
      ],
      "metadata": {
        "id": "fu3pQyRalvr1"
      }
    },
    {
      "cell_type": "markdown",
      "source": [
        "The choice of k in the KNN algorithm is very important, both for the accuracy of the model and for its computational efficiency. A low value of k, such as 1, can result in high sensitivity to noise in the training data and may cause overfitting; this means the model performs well on the training data but has a poor performance on the unseen data since it relies on the probably misleading decision of single neighbors. Conversely, as k increases, the model becomes generalized; such a model will probably work better on new data since the noise gets averaged out. However, if k is set too high, it may lead to underfitting, where important patterns in the data are ignored, causing a decline in accuracy. From a computational perspective, although the number of distance calculations remains constant for each prediction independent of the value of nk, the increase in nk can slow down the process of prediction because more neighbors need to be considered for the majority vote. Therefore, choosing an appropriate k requires balancing these factors to achieve optimal model performance."
      ],
      "metadata": {
        "id": "dVusy18smJ6j"
      }
    },
    {
      "cell_type": "markdown",
      "source": [
        "**Identify the optimal k based on your analysis**"
      ],
      "metadata": {
        "id": "f1MLLoK6nM_z"
      }
    },
    {
      "cell_type": "markdown",
      "source": [
        "Finding the optimum value of k includes looking into how accuracy changes with different values of k, along with considering computational efficiency. This is usually done by plotting accuracy against a range of k values and observing where the accuracy peaks. The optimum k is often found at this peak point; for example, if the highest value of accuracy falls at k=7 with an accuracy of 0.81 before declining at higher values, then k=7 would be considered optimal. However, another important factor is how changes in k affect the time it takes to make predictions; if increasing k gives similar accuracy but increases computation time significantly, a lower value may be more appropriate for practical use. Thus, the best value for k strikes a balance between maximization of predictive accuracy and reduction of computational costs to facilitate the deployment of the model efficiently in real-world scenarios."
      ],
      "metadata": {
        "id": "vQnEhEXrnQj3"
      }
    },
    {
      "cell_type": "markdown",
      "source": [
        "#Problem - 4 - Additional Questions {Optional - But Highly Recommended}:\n",
        "\n",
        "• Discuss the challenges of using KNN for large datasets and high-dimensional data.\n",
        "\n",
        "• Suggest strategies to improve the efficiency of KNN (e.g., approximate nearest neighbors, dimensionality\n",
        "reduction).\n"
      ],
      "metadata": {
        "id": "YrFEndrdns14"
      }
    },
    {
      "cell_type": "markdown",
      "source": [
        "#Challenges of Using KNN on Large Datasets and High-Dimensional Data:\n",
        "\n",
        "**Computational Efficiency:**\n",
        "\n",
        "KNN requires calculating the distance between the query point and all training points for every prediction. This can be computationally expensive, especially with large datasets, leading to long prediction times and increased memory usage.\n",
        "\n",
        "**Curse of Dimensionality:**\n",
        "In high-dimensional spaces, data points become sparse, and distance metrics become less meaningful. This may lead to a drop in accuracy as KNN fails to find meaningful neighbors, leading to overfitting or underfitting.\n",
        "\n",
        "**Storage Requirements:**\n",
        "Storing all training data can be impractical for large datasets, especially when the dataset is not only large in size but also high in dimensionality."
      ],
      "metadata": {
        "id": "n_ZN-PGenzvU"
      }
    },
    {
      "cell_type": "markdown",
      "source": [
        "#Strategies to Improve the Efficiency of KNN:\n",
        "\n",
        "**Approximate Nearest Neighbors (ANN):**\n",
        "\n",
        "Implementation of ANN algorithms provides faster responses to queries by compromising on some accuracy. In the lower dimensions also, the neighbor's search can be effectively done by techniques such as KD-trees or Ball trees.\n",
        "\n",
        "**Dimensionality Reduction:**\n",
        "This can be done by methods such as PCA or t-SNE, which reduces the dimensions while retaining vital data structures. It not only accelerates the computation of distances but also alleviates the problem caused by the curse of dimensionality.\n",
        "\n",
        "**Feature Selection:**\n",
        "Eliminating irrelevant and redundant features using feature selection techniques could help in making the dataset simpler before applying the KNN and, therefore, enhancing both the accuracy and computational efficiency of the model.\n",
        "\n",
        "**Data Sampling:**\n",
        "You might want to use a representative sample for the very big datasets in training and testing. This would keep up performance while reducing the computation time."
      ],
      "metadata": {
        "id": "LSJW44iOpsu6"
      }
    }
  ]
}