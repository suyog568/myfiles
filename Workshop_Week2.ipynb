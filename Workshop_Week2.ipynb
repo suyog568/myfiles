{
  "nbformat": 4,
  "nbformat_minor": 0,
  "metadata": {
    "colab": {
      "provenance": [],
      "mount_file_id": "16BkATvpplhWhfCjTiN2EUC7ah18TUt27",
      "authorship_tag": "ABX9TyNp8S2wQKVjSjVTlqJsULkC",
      "include_colab_link": true
    },
    "kernelspec": {
      "name": "python3",
      "display_name": "Python 3"
    },
    "language_info": {
      "name": "python"
    }
  },
  "cells": [
    {
      "cell_type": "markdown",
      "metadata": {
        "id": "view-in-github",
        "colab_type": "text"
      },
      "source": [
        "<a href=\"https://colab.research.google.com/github/suyog568/myfiles/blob/main/Workshop_Week2.ipynb\" target=\"_parent\"><img src=\"https://colab.research.google.com/assets/colab-badge.svg\" alt=\"Open In Colab\"/></a>"
      ]
    },
    {
      "cell_type": "markdown",
      "source": [
        "#Name : Suyog Bastakoti\n",
        "\n",
        "#University ID: 2407093\n",
        "\n",
        "#Module Name: Concepts & Technologies of AI"
      ],
      "metadata": {
        "id": "qP7TQVbvT3gv"
      }
    },
    {
      "cell_type": "markdown",
      "source": [
        "3 To - Do - Task\n",
        "Please Complete all the problem listed below.\n",
        "3.1 Warming Up Exercises - Basic Inspection and Exploration:\n",
        "Problem 1 - Data Read, Write and Inspect:\n",
        "Complete all following Task:\n",
        "• Dataset for the Task: \"bank.csv\"\n",
        "\n",
        "1. Load the provided dataset and import in pandas DataFrame.\n",
        "2. Check info of the DataFrame and identify following:\n",
        "(a) columns with dtypes=object\n",
        "(b) unique values of those columns.\n",
        "(c) check for the total number of null values in each column.\n",
        "3. Drop all the columns with dtypes object and store in new DataFrame, also write the DataFrame in\n",
        "”.csv” with name ”banknumericdata.csv”\n",
        "4. Read ”banknumericdata.csv” and Find the summary statistics."
      ],
      "metadata": {
        "id": "4fgGBynpT_0Y"
      }
    },
    {
      "cell_type": "code",
      "source": [
        "# 1. Load the provided dataset and import in pandas DataFrame.\n",
        "df = pd.read_csv('/content/drive/MyDrive/Data Set /bank .csv')\n",
        "\n",
        "# 2. Check info of the DataFrame and identify following:\n",
        "\n",
        "# (a) columns with dtypes=object\n",
        "object_columns = df.select_dtypes(include=['object']).columns\n",
        "print(f\"Columns with dtype = object:\\n {list(object_columns)}\\n\")\n",
        "\n",
        "# (b) unique values of those columns.\n",
        "unique_values = {}\n",
        "for col in object_columns:\n",
        "    unique_values[col] = df[col].unique()\n",
        "\n",
        "print(\"Unique values for object dtype columns:\\n\")\n",
        "\n",
        "for col, values in unique_values.items():\n",
        "    print(f\"{col}: {values}\")\n",
        "\n",
        "# (c) check for the total number of null values in each column.\n",
        "null_values = df.isnull().sum()\n",
        "print(\"\\nNull values in each column:\\n\")\n",
        "print(null_values)\n",
        "\n",
        "# 3. Drop columns with dtype=object and store the resulting DataFrame in \"banknumericdata.csv\"\n",
        "df_numeric = df.drop(columns=object_columns)\n",
        "df_numeric.to_csv('/content/drive/MyDrive/Data Set /banknumericdata.csv')\n",
        "\n",
        "# 4. Read \"banknumericdata.csv\" and find the summary statistics\n",
        "df_numeric_read = pd.read_csv('/content/drive/MyDrive/Data Set /banknumericdata.csv')\n",
        "summary = df_numeric_read.describe()\n",
        "print(\"\\nSummary statistics:\\n\")\n",
        "print(summary)"
      ],
      "metadata": {
        "colab": {
          "base_uri": "https://localhost:8080/"
        },
        "id": "czEpHeZqpCJy",
        "outputId": "2f7a9de8-bb44-4ee6-b46c-5a861c9b1f8a"
      },
      "execution_count": 14,
      "outputs": [
        {
          "output_type": "stream",
          "name": "stdout",
          "text": [
            "Columns with dtype = object:\n",
            " ['job', 'marital', 'education', 'default', 'housing', 'loan', 'contact', 'month', 'poutcome', 'y']\n",
            "\n",
            "Unique values for object dtype columns:\n",
            "\n",
            "job: ['management' 'technician' 'entrepreneur' 'blue-collar' 'unknown'\n",
            " 'retired' 'admin.' 'services' 'self-employed' 'unemployed' 'housemaid'\n",
            " 'student']\n",
            "marital: ['married' 'single' 'divorced']\n",
            "education: ['tertiary' 'secondary' 'unknown' 'primary']\n",
            "default: ['no' 'yes']\n",
            "housing: ['yes' 'no']\n",
            "loan: ['no' 'yes']\n",
            "contact: ['unknown' 'cellular' 'telephone']\n",
            "month: ['may' 'jun' 'jul' 'aug' 'oct' 'nov' 'dec' 'jan' 'feb' 'mar' 'apr' 'sep']\n",
            "poutcome: ['unknown' 'failure' 'other' 'success']\n",
            "y: ['no' 'yes']\n",
            "\n",
            "Null values in each column:\n",
            "\n",
            "age          0\n",
            "job          0\n",
            "marital      0\n",
            "education    0\n",
            "default      0\n",
            "balance      0\n",
            "housing      0\n",
            "loan         0\n",
            "contact      0\n",
            "day          0\n",
            "month        0\n",
            "duration     0\n",
            "campaign     0\n",
            "pdays        0\n",
            "previous     0\n",
            "poutcome     0\n",
            "y            0\n",
            "dtype: int64\n",
            "\n",
            "Summary statistics:\n",
            "\n",
            "         Unnamed: 0           age        balance           day      duration  \\\n",
            "count  45211.000000  45211.000000   45211.000000  45211.000000  45211.000000   \n",
            "mean   22605.000000     40.936210    1362.272058     15.806419    258.163080   \n",
            "std    13051.435847     10.618762    3044.765829      8.322476    257.527812   \n",
            "min        0.000000     18.000000   -8019.000000      1.000000      0.000000   \n",
            "25%    11302.500000     33.000000      72.000000      8.000000    103.000000   \n",
            "50%    22605.000000     39.000000     448.000000     16.000000    180.000000   \n",
            "75%    33907.500000     48.000000    1428.000000     21.000000    319.000000   \n",
            "max    45210.000000     95.000000  102127.000000     31.000000   4918.000000   \n",
            "\n",
            "           campaign         pdays      previous  \n",
            "count  45211.000000  45211.000000  45211.000000  \n",
            "mean       2.763841     40.197828      0.580323  \n",
            "std        3.098021    100.128746      2.303441  \n",
            "min        1.000000     -1.000000      0.000000  \n",
            "25%        1.000000     -1.000000      0.000000  \n",
            "50%        2.000000     -1.000000      0.000000  \n",
            "75%        3.000000     -1.000000      0.000000  \n",
            "max       63.000000    871.000000    275.000000  \n"
          ]
        }
      ]
    },
    {
      "cell_type": "markdown",
      "source": [
        "#Problem 2 - Data Imputations:\n",
        "Complete all the following Task:\n",
        "• Dataset for the Task: \"medical_student.csv\"\n",
        "1. Load the provided dataset and import in pandas DataFrame.\n",
        "2. Check info of the DataFrame and identify column with missing (null) values.\n",
        "3. For the column with missing values fill the values using various techniques we discussed above. Try\n",
        "to explain why did you select the particular methods for particular column.\n",
        "4. Check for any duplicate values present in Dataset and do necessary to manage the duplicate items.\n",
        "{Hint: dataset.duplicated.sum()}\n"
      ],
      "metadata": {
        "id": "Oipqyc8VpSSQ"
      }
    },
    {
      "cell_type": "code",
      "source": [
        "# 1. Load the provided dataset and import in pandas DataFrame\n",
        "df = pd.read_csv('/content/drive/MyDrive/Data Set /medical_students_dataset.csv')\n",
        "\n",
        "# 2. Check info of the DataFrame and identify columns with missing (null) values\n",
        "print(\"\\nDataFrame Info:\\n\")\n",
        "print(df.info())\n",
        "\n",
        "# Identify columns with missing values\n",
        "missing_values = df.isnull().sum()\n",
        "print(\"\\nMissing values in each column:\\n\")\n",
        "print(missing_values[missing_values > 0])\n",
        "\n",
        "# 3. For the column with missing values fill the values using various techniques we discussed above.\n",
        "# Try to explain why did you select the particular methods for particular column.\n",
        "print(\"\\nFilling missing values:\\n\")\n",
        "for column in missing_values[missing_values > 0].index:\n",
        "    if df[column].dtype == 'float64' or df[column].dtype == 'int64':\n",
        "        # Fill numeric columns with mean/average value of that column\n",
        "        df[column] = df[column].fillna(df[column].mean())\n",
        "        print(f\"\\nFilled missing values in '{column}' with average value of the column.\")\n",
        "\n",
        "    elif df[column].dtype == 'object':\n",
        "        # Fill object columns with mode/most common value from the column\n",
        "        df[column] = df[column].fillna(df[column].mode()[0])\n",
        "        print(f\"\\nFilled missing values in '{column}' with most common value in the column.\")\n",
        "\n",
        "# 4. Check for any duplicate values\n",
        "print(\"\\nChecking for duplicate rows...\")\n",
        "duplicates_count = df.duplicated().sum()\n",
        "print(f\"Number of duplicate rows: {duplicates_count}\")\n",
        "\n",
        "# Drop duplicates if any exist\n",
        "if duplicates_count > 0:\n",
        "    df = df.drop_duplicates()\n",
        "    print(\"Duplicate rows dropped.\")\n",
        "\n",
        "# Final output\n",
        "print(\"\\nFinal DataFrame Info:\")\n",
        "print(df.info())\n",
        "\n",
        "\n"
      ],
      "metadata": {
        "colab": {
          "base_uri": "https://localhost:8080/"
        },
        "id": "3qZhPHgzpZxt",
        "outputId": "15f82752-e28e-4981-9694-bb8a6bb87189"
      },
      "execution_count": 17,
      "outputs": [
        {
          "output_type": "stream",
          "name": "stdout",
          "text": [
            "\n",
            "DataFrame Info:\n",
            "\n",
            "<class 'pandas.core.frame.DataFrame'>\n",
            "RangeIndex: 200000 entries, 0 to 199999\n",
            "Data columns (total 13 columns):\n",
            " #   Column          Non-Null Count   Dtype  \n",
            "---  ------          --------------   -----  \n",
            " 0   Student ID      180000 non-null  float64\n",
            " 1   Age             180000 non-null  float64\n",
            " 2   Gender          180000 non-null  object \n",
            " 3   Height          180000 non-null  float64\n",
            " 4   Weight          180000 non-null  float64\n",
            " 5   Blood Type      180000 non-null  object \n",
            " 6   BMI             180000 non-null  float64\n",
            " 7   Temperature     180000 non-null  float64\n",
            " 8   Heart Rate      180000 non-null  float64\n",
            " 9   Blood Pressure  180000 non-null  float64\n",
            " 10  Cholesterol     180000 non-null  float64\n",
            " 11  Diabetes        180000 non-null  object \n",
            " 12  Smoking         180000 non-null  object \n",
            "dtypes: float64(9), object(4)\n",
            "memory usage: 19.8+ MB\n",
            "None\n",
            "\n",
            "Missing values in each column:\n",
            "\n",
            "Student ID        20000\n",
            "Age               20000\n",
            "Gender            20000\n",
            "Height            20000\n",
            "Weight            20000\n",
            "Blood Type        20000\n",
            "BMI               20000\n",
            "Temperature       20000\n",
            "Heart Rate        20000\n",
            "Blood Pressure    20000\n",
            "Cholesterol       20000\n",
            "Diabetes          20000\n",
            "Smoking           20000\n",
            "dtype: int64\n",
            "\n",
            "Filling missing values:\n",
            "\n",
            "\n",
            "Filled missing values in 'Student ID' with average value of the column.\n",
            "\n",
            "Filled missing values in 'Age' with average value of the column.\n",
            "\n",
            "Filled missing values in 'Gender' with most common value in the column.\n",
            "\n",
            "Filled missing values in 'Height' with average value of the column.\n",
            "\n",
            "Filled missing values in 'Weight' with average value of the column.\n",
            "\n",
            "Filled missing values in 'Blood Type' with most common value in the column.\n",
            "\n",
            "Filled missing values in 'BMI' with average value of the column.\n",
            "\n",
            "Filled missing values in 'Temperature' with average value of the column.\n",
            "\n",
            "Filled missing values in 'Heart Rate' with average value of the column.\n",
            "\n",
            "Filled missing values in 'Blood Pressure' with average value of the column.\n",
            "\n",
            "Filled missing values in 'Cholesterol' with average value of the column.\n",
            "\n",
            "Filled missing values in 'Diabetes' with most common value in the column.\n",
            "\n",
            "Filled missing values in 'Smoking' with most common value in the column.\n",
            "\n",
            "Checking for duplicate rows...\n",
            "Number of duplicate rows: 12572\n",
            "Duplicate rows dropped.\n",
            "\n",
            "Final DataFrame Info:\n",
            "<class 'pandas.core.frame.DataFrame'>\n",
            "Index: 187428 entries, 0 to 199999\n",
            "Data columns (total 13 columns):\n",
            " #   Column          Non-Null Count   Dtype  \n",
            "---  ------          --------------   -----  \n",
            " 0   Student ID      187428 non-null  float64\n",
            " 1   Age             187428 non-null  float64\n",
            " 2   Gender          187428 non-null  object \n",
            " 3   Height          187428 non-null  float64\n",
            " 4   Weight          187428 non-null  float64\n",
            " 5   Blood Type      187428 non-null  object \n",
            " 6   BMI             187428 non-null  float64\n",
            " 7   Temperature     187428 non-null  float64\n",
            " 8   Heart Rate      187428 non-null  float64\n",
            " 9   Blood Pressure  187428 non-null  float64\n",
            " 10  Cholesterol     187428 non-null  float64\n",
            " 11  Diabetes        187428 non-null  object \n",
            " 12  Smoking         187428 non-null  object \n",
            "dtypes: float64(9), object(4)\n",
            "memory usage: 20.0+ MB\n",
            "None\n"
          ]
        }
      ]
    },
    {
      "cell_type": "markdown",
      "source": [
        "#3.2 Exercises - Data Cleaning and Transformations with ”Titanic Dataset”:\n",
        "Dataset Used: \"titanic.csv\"\n",
        "\n",
        "#Problem - 1:\n",
        "Create a DataFrame that is subsetted for the columns ’Name’, ’Pclass’, ’Sex’, ’Age’, ’Fare’, and ’Survived’.\n",
        "Retain only those rows where ’Pclass’ is equal to 1, representing first-class passengers. What is the mean,\n",
        "median, maximum value, and minimum value of the ’Fare’ column?\n",
        "\n",
        "#Problem - 2:\n",
        "How many null values are contained in the ’Age’ column in your subsetted DataFrame? Once you’ve found\n",
        "this out, drop them from your DataFrame."
      ],
      "metadata": {
        "id": "nvNKCGMnqraG"
      }
    },
    {
      "cell_type": "code",
      "source": [
        "df = pd.read_csv('/content/drive/MyDrive/Data Set /Titanic-Dataset.csv')\n",
        "\n",
        "# Subsetted dataframe\n",
        "subset_df = df[['Name', 'Pclass', 'Sex', 'Age', 'Fare', 'Survived']]\n",
        "\n",
        "# filter rows where Pclass is 1.\n",
        "first_class_df = subset_df[subset_df['Pclass'] == 1]\n",
        "\n",
        "# Calculate the mean, median, max, and min of the 'Fare' column\n",
        "mean_fare = first_class_df['Fare'].mean()\n",
        "median_fare = first_class_df['Fare'].median()\n",
        "max_fare = first_class_df['Fare'].max()\n",
        "min_fare = first_class_df['Fare'].min()\n",
        "\n",
        "# Print the results\n",
        "print(\"Problem 1:\\n\")\n",
        "print(f\"Mean Fare: {mean_fare}\")\n",
        "print(f\"Median Fare: {median_fare}\")\n",
        "print(f\"Maximum Fare: {max_fare}\")\n",
        "print(f\"Minimum Fare: {min_fare}\")\n",
        "\n",
        "# 3.2 Problem 2.\n",
        "print(\"\\nProblem 2:\\n\")\n",
        "# Count the number of null values in the 'Age' column\n",
        "null_age_count = first_class_df['Age'].isnull().sum()\n",
        "print(f\"Number of null values in 'Age' column: {null_age_count}\")\n",
        "\n",
        "# Drop the rows where 'Age' is null\n",
        "first_class_df_cleaned = first_class_df.dropna(subset=['Age'])\n",
        "\n",
        "# Verify that null values are dropped\n",
        "null_age_count_after_drop = first_class_df_cleaned['Age'].isnull().sum()\n",
        "print(f\"Number of null values in 'Age' column after dropping: {null_age_count_after_drop}\")"
      ],
      "metadata": {
        "colab": {
          "base_uri": "https://localhost:8080/"
        },
        "id": "OXWdw-fAqzO2",
        "outputId": "b363d2a2-0276-426d-81f9-9cf9d63bfb0d"
      },
      "execution_count": 19,
      "outputs": [
        {
          "output_type": "stream",
          "name": "stdout",
          "text": [
            "Problem 1:\n",
            "\n",
            "Mean Fare: 84.1546875\n",
            "Median Fare: 60.287499999999994\n",
            "Maximum Fare: 512.3292\n",
            "Minimum Fare: 0.0\n",
            "\n",
            "Problem 2:\n",
            "\n",
            "Number of null values in 'Age' column: 30\n",
            "Number of null values in 'Age' column after dropping: 0\n"
          ]
        }
      ]
    },
    {
      "cell_type": "markdown",
      "source": [
        "#Problem - 3:\n",
        "The ’Embarked’ column in the Titanic dataset contains categorical data representing the ports of embarkation:\n",
        "• ’C’ for Cherbourg\n",
        "• ’Q’ for Queenstown\n",
        "• ’S’ for Southampton\n",
        "Task:\n",
        "1. Use one-hot encoding to convert the ’Embarked’ column into separate binary columns (’Embarked C’,\n",
        "’Embarked Q’, ’Embarked S’).\n",
        "2. Add these new columns to the original DataFrame.\n",
        "3. Drop the original ’Embarked’ column.\n",
        "4. Print the first few rows of the modified DataFrame to verify the changes."
      ],
      "metadata": {
        "id": "FN1ctl56rajM"
      }
    },
    {
      "cell_type": "code",
      "source": [
        "df = pd.read_csv('/content/drive/MyDrive/Data Set /Titanic-Dataset.csv')\n",
        "\n",
        "# 1. Use one-hot encoding to convert the ’Embarked’ column into separate binary columns (’Embarked C’, ’Embarked Q’, ’Embarked S’).\n",
        "embarked_dummies = pd.get_dummies(df['Embarked'], prefix='Embarked')\n",
        "\n",
        "# 2. Add these new columns to the original DataFrame.\n",
        "df = pd.concat([df, embarked_dummies], axis=1)\n",
        "\n",
        "# 3. Drop the original ’Embarked’ column.\n",
        "df.drop(columns=['Embarked'], inplace=True)\n",
        "\n",
        "# 4. Print the first few rows of the modified DataFrame to verify the changes.\n",
        "print(df.head())"
      ],
      "metadata": {
        "colab": {
          "base_uri": "https://localhost:8080/"
        },
        "id": "xeAbn5bJrsjA",
        "outputId": "91f43d65-d943-467a-a6fa-46f2f4cfa73b"
      },
      "execution_count": 20,
      "outputs": [
        {
          "output_type": "stream",
          "name": "stdout",
          "text": [
            "   PassengerId  Survived  Pclass  \\\n",
            "0            1         0       3   \n",
            "1            2         1       1   \n",
            "2            3         1       3   \n",
            "3            4         1       1   \n",
            "4            5         0       3   \n",
            "\n",
            "                                                Name     Sex   Age  SibSp  \\\n",
            "0                            Braund, Mr. Owen Harris    male  22.0      1   \n",
            "1  Cumings, Mrs. John Bradley (Florence Briggs Th...  female  38.0      1   \n",
            "2                             Heikkinen, Miss. Laina  female  26.0      0   \n",
            "3       Futrelle, Mrs. Jacques Heath (Lily May Peel)  female  35.0      1   \n",
            "4                           Allen, Mr. William Henry    male  35.0      0   \n",
            "\n",
            "   Parch            Ticket     Fare Cabin  Embarked_C  Embarked_Q  Embarked_S  \n",
            "0      0         A/5 21171   7.2500   NaN       False       False        True  \n",
            "1      0          PC 17599  71.2833   C85        True       False       False  \n",
            "2      0  STON/O2. 3101282   7.9250   NaN       False       False        True  \n",
            "3      0            113803  53.1000  C123       False       False        True  \n",
            "4      0            373450   8.0500   NaN       False       False        True  \n"
          ]
        }
      ]
    },
    {
      "cell_type": "markdown",
      "source": [
        "#Problem - 4:\n",
        "Compare the mean survival rates (’Survived’) for the different groups in the ’Sex’ column. Draw a visualization to show how the survival distributions vary by gender."
      ],
      "metadata": {
        "id": "JDQcUQCesHA3"
      }
    },
    {
      "cell_type": "code",
      "source": [
        "import pandas as pd\n",
        "import matplotlib.pyplot as plt  # Importing matplotlib for plotting\n",
        "\n",
        "# Load the Titanic dataset\n",
        "df = pd.read_csv('/content/drive/MyDrive/Data Set /Titanic-Dataset.csv')\n",
        "\n",
        "# Calculate mean survival rates by gender\n",
        "mean_survival_by_gender = df.groupby('Sex')['Survived'].mean()\n",
        "print(f\"Mean survival rate by gender:\\n{mean_survival_by_gender}\")\n",
        "\n",
        "# Bar plot to show the mean survival rate by gender\n",
        "plt.figure(figsize=(6, 4))\n",
        "plt.bar(mean_survival_by_gender.index, mean_survival_by_gender.values, color=['blue', 'pink'])\n",
        "plt.title('Mean Survival Rate by Gender')\n",
        "plt.xlabel('Gender')\n",
        "plt.ylabel('Mean Survival Rate')\n",
        "plt.xticks(rotation=0)  # Optional: Rotate x-axis labels if needed\n",
        "plt.show()"
      ],
      "metadata": {
        "colab": {
          "base_uri": "https://localhost:8080/",
          "height": 497
        },
        "id": "h55JcjcfsgwU",
        "outputId": "46dc0e63-a3d6-4b61-ddd9-0013a9e97c3a"
      },
      "execution_count": 22,
      "outputs": [
        {
          "output_type": "stream",
          "name": "stdout",
          "text": [
            "Mean survival rate by gender:\n",
            "Sex\n",
            "female    0.742038\n",
            "male      0.188908\n",
            "Name: Survived, dtype: float64\n"
          ]
        },
        {
          "output_type": "display_data",
          "data": {
            "text/plain": [
              "<Figure size 600x400 with 1 Axes>"
            ],
            "image/png": "[encoded data removed]"
          },
          "metadata": {}
        }
      ]
    },
    {
      "cell_type": "markdown",
      "source": [
        "#Problem - 5:\n",
        "Draw a visualization that breaks your visualization from Exercise 3 down by the port of embarkation (’Embarked’). In this instance, compare the ports ’C’ (Cherbourg), ’Q’ (Queenstown), and ’S’ (Southampton)."
      ],
      "metadata": {
        "id": "wOlz4MVYsqa_"
      }
    },
    {
      "cell_type": "code",
      "source": [
        "mean_survival_by_gender_and_embarked = df.groupby(['Sex', 'Embarked'])['Survived'].mean().unstack()\n",
        "print(f\"Mean survival rate by gender and embarkation port:\\n{mean_survival_by_gender_and_embarked}\")\n",
        "\n",
        "# Bar plot to show the mean survival rate by gender and embarkation port\n",
        "mean_survival_by_gender_and_embarked.plot(kind='bar', figsize=(8, 6), color=['blue', 'pink', 'lightgreen'])\n",
        "plt.title('Mean Survival Rate by Gender and Embarkation Port')\n",
        "plt.xlabel('Gender')\n",
        "plt.ylabel('Mean Survival Rate')\n",
        "plt.xticks(rotation=0)  # Rotate x-axis labels to make them readable\n",
        "plt.legend(title='Embarked', labels=['Cherbourg (C)', 'Queenstown (Q)', 'Southampton (S)'])\n",
        "plt.show()"
      ],
      "metadata": {
        "colab": {
          "base_uri": "https://localhost:8080/",
          "height": 651
        },
        "id": "91QehtQXsvJ6",
        "outputId": "594f73a4-3505-46bf-f725-dcc0f115aa51"
      },
      "execution_count": 23,
      "outputs": [
        {
          "output_type": "stream",
          "name": "stdout",
          "text": [
            "Mean survival rate by gender and embarkation port:\n",
            "Embarked         C         Q         S\n",
            "Sex                                   \n",
            "female    0.876712  0.750000  0.689655\n",
            "male      0.305263  0.073171  0.174603\n"
          ]
        },
        {
          "output_type": "display_data",
          "data": {
            "text/plain": [
              "<Figure size 800x600 with 1 Axes>"
            ],
            "image/png": "[encoded data removed]"
          },
          "metadata": {}
        }
      ]
    },
    {
      "cell_type": "markdown",
      "source": [
        "#Problem - 6{Optional}:\n",
        "Show how the survival rates (’Survived’) vary by age group and passenger class (’Pclass’). Break up the\n",
        "’Age’ column into five quantiles in your DataFrame, and then compare the means of ’Survived’ by class\n",
        "and age group. Draw a visualization using a any plotting library to represent this graphically"
      ],
      "metadata": {
        "id": "AvzMpTp-tKw1"
      }
    },
    {
      "cell_type": "code",
      "source": [
        "age_quantiles = pd.qcut(df['Age'], 5, labels=['Q1', 'Q2', 'Q3', 'Q4', 'Q5'])\n",
        "df['AgeGroup'] = age_quantiles\n",
        "\n",
        "mean_survival_by_class_and_age = df.groupby(['Pclass', 'AgeGroup'], observed=False)['Survived'].mean().unstack()\n",
        "\n",
        "print(f\"Mean survival rate by Pclass and Age Group:\\n{mean_survival_by_class_and_age}\")\n",
        "\n",
        "# Plot the mean survival rate by Pclass and Age Group\n",
        "mean_survival_by_class_and_age.plot(kind='bar', figsize=(10, 6), color=['blue', 'red', 'purple', 'yellow', 'green'])\n",
        "plt.title('Mean Survival Rate by Passenger Class and Age Group')\n",
        "plt.xlabel('Passenger Class')\n",
        "plt.ylabel('Mean Survival Rate')\n",
        "plt.xticks(rotation=0)  # Rotate x-axis labels for better readability\n",
        "plt.legend(title='Age Group', loc='upper left', labels=['Q1', 'Q2', 'Q3', 'Q4', 'Q5'])\n",
        "plt.show()"
      ],
      "metadata": {
        "colab": {
          "base_uri": "https://localhost:8080/",
          "height": 668
        },
        "id": "U7k21IHqtPns",
        "outputId": "b791b685-c792-4c54-c74c-41a3eac5b7f4"
      },
      "execution_count": 26,
      "outputs": [
        {
          "output_type": "stream",
          "name": "stdout",
          "text": [
            "Mean survival rate by Pclass and Age Group:\n",
            "AgeGroup        Q1        Q2        Q3        Q4        Q5\n",
            "Pclass                                                    \n",
            "1         0.809524  0.761905  0.666667  0.777778  0.506667\n",
            "2         0.742857  0.400000  0.416667  0.461538  0.363636\n",
            "3         0.333333  0.197674  0.283582  0.166667  0.088235\n"
          ]
        },
        {
          "output_type": "display_data",
          "data": {
            "text/plain": [
              "<Figure size 1000x600 with 1 Axes>"
            ],
            "image/png": "[encoded data removed]"
          },
          "metadata": {}
        }
      ]
    }
  ]
}