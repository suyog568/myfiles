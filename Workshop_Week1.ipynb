{
  "nbformat": 4,
  "nbformat_minor": 0,
  "metadata": {
    "colab": {
      "provenance": [],
      "authorship_tag": "ABX9TyNYT3r8a71kKrnAYqEt5pb3",
      "include_colab_link": true
    },
    "kernelspec": {
      "name": "python3",
      "display_name": "Python 3"
    },
    "language_info": {
      "name": "python"
    }
  },
  "cells": [
    {
      "cell_type": "markdown",
      "metadata": {
        "id": "view-in-github",
        "colab_type": "text"
      },
      "source": [
        "<a href=\"https://colab.research.google.com/github/suyog568/myfiles/blob/main/Workshop_Week1.ipynb\" target=\"_parent\"><img src=\"https://colab.research.google.com/assets/colab-badge.svg\" alt=\"Open In Colab\"/></a>"
      ]
    },
    {
      "cell_type": "markdown",
      "source": [
        "# **Name: Suyog Bastakoti**\n",
        "\n",
        "# **University ID: 2407093**"
      ],
      "metadata": {
        "id": "TJ5ZDBi57JxA"
      }
    },
    {
      "cell_type": "markdown",
      "source": [
        "# 4.1 Warming Up Exercise: Basic Vector and Matrix Operation with Numpy.\n",
        "\n",
        "# Problem - 1: Array Creation:\n",
        "1. Initialize an empty array with size 2X2.\n",
        "2. Initialize an all-one array with size 4X2.\n",
        "3. Return a new array of given shape and type, filled with a fill value.\n",
        "4. Return a new array of zeros with the same shape and type as a given array.\n",
        "5. Return a new array of ones with the same shape and type as a given array.\n",
        "6. For an existing list, convert it to a NumPy array.\n",
        "\n",
        "\n",
        "\n"
      ],
      "metadata": {
        "id": "XmxibA8Z5AlK"
      }
    },
    {
      "cell_type": "code",
      "source": [
        "import numpy as np\n",
        "\n",
        "#1. Initialize an empty array with size 2x2.\n",
        "empty_array = np.empty((2,2))\n",
        "print(\"\\n Empty Array (2x2):\\n\", empty_array)\n",
        "\n",
        "#2. Initialize an all-one array with size 4x2.\n",
        "all_one_array = np.ones((4,2))\n",
        "print(\"\\n All-Ones Array (4x2):\\n\", all_one_array)\n",
        "#3. Return a new array of given shape and type, filled with a fill value.\n",
        "fill_value = 7\n",
        "filled_array = np.full((3,3), fill_value)\n",
        "print(\"\\n Array Filled with Value 7 (3x3):\\n\", filled_array)\n",
        "\n",
        "#4. Return a new array of zeros with the same shape and type as a given array.\n",
        "reference_array = np.array([[1,2,3],[4,5,6]])\n",
        "zeros_like_array = np.zeros_like(reference_array)\n",
        "print(\"\\n Zeros Array with Same Shape as Reference Array:\\n\", zeros_like_array)\n",
        "\n",
        "#5. Return a new array of ones with the same shape and type as a given array.\n",
        "ones_like_array = np.ones_like(reference_array)\n",
        "print(\"\\n Ones Array with the Same Shape as Reference Array:\\n\", ones_like_array)\n",
        "\n",
        "#6. For an existing list, convert it to a NumPy array.\n",
        "new_list = [1,2,3,4]\n",
        "numpy_array = np.array(new_list)\n",
        "print(\"\\n Converted List to NumPy Array:\\n\", numpy_array)\n"
      ],
      "metadata": {
        "colab": {
          "base_uri": "https://localhost:8080/"
        },
        "id": "HRHIj1zs7VoV",
        "outputId": "cd30b1ef-7f40-4a31-b359-a70af6368022"
      },
      "execution_count": 8,
      "outputs": [
        {
          "output_type": "stream",
          "name": "stdout",
          "text": [
            "\n",
            " Empty Array (2x2):\n",
            " [[4.9e-324 9.9e-324]\n",
            " [1.5e-323 2.0e-323]]\n",
            "\n",
            " All-Ones Array (4x2):\n",
            " [[1. 1.]\n",
            " [1. 1.]\n",
            " [1. 1.]\n",
            " [1. 1.]]\n",
            "\n",
            " Array Filled with Value 7 (3x3):\n",
            " [[7 7 7]\n",
            " [7 7 7]\n",
            " [7 7 7]]\n",
            "\n",
            " Zeros Array with Same Shape as Reference Array:\n",
            " [[0 0 0]\n",
            " [0 0 0]]\n",
            "\n",
            " Ones Array with the Same Shape as Reference Array:\n",
            " [[1 1 1]\n",
            " [1 1 1]]\n",
            "\n",
            " Converted List to NumPy Array:\n",
            " [1 2 3 4]\n"
          ]
        }
      ]
    },
    {
      "cell_type": "markdown",
      "source": [
        "# 4.1.1\n",
        "#Problem - 2: Array Manipulation: Numerical Ranges and Array indexing:\n",
        "# Complete the following tasks:\n",
        "1. Create an array with values ranging from 10 to 49.\n",
        "2. Create a 3X3 matrix with values ranging from 0 to 8.\n",
        "3. Create a 3X3 identity matrix.\n",
        "4. Create a random array of size 30 and find the mean of the array.\n",
        "5. Create a 10X10 array with random values and find the minimum and maximum values.\n",
        "6. Create a zero array of size 10 and replace the 5th element with 1.\n",
        "7. Reverse an array arr = [1, 2, 0, 0, 4, 0].\n",
        "8. Create a 2D array with 1 on the border and 0 inside.\n",
        "9. Create an 8X8 matrix and fill it with a checkerboard pattern.\n",
        "\n",
        "\n"
      ],
      "metadata": {
        "id": "TckYk6TjAUz9"
      }
    },
    {
      "cell_type": "code",
      "source": [
        "import numpy as np\n",
        "\n",
        "#1.Create an array with values ranging from 10 to 49.\n",
        "array_range = np.arange(10, 50)\n",
        "print(\"Array with values ranging from 10 to 49:\\n\", array_range)\n",
        "\n",
        "#2. Create a 3x3 matrix wwith values ranging from 0 to 8.\n",
        "matrix_3x3 = np.arange(9).reshape(3,3)\n",
        "print(\"\\n3x3 Matrix with values ranging from 0 to 8:\\n\", matrix_3x3)\n",
        "\n",
        "#3. Create a 3x3 identity matrix\n",
        "identity_matrix = np.eye(3)\n",
        "print(\"\\n3x3 Identity Matrix:\\n\", identity_matrix)\n",
        "\n",
        "#4. Create a random array of size 30 and find the mean of the array.\n",
        "random_array = np.random.rand(30)\n",
        "mean_value = random_array.mean()\n",
        "print(\"\\nRandom Array of Size 30:\\n\", random_array)\n",
        "print(\"\\nMean of the Random Array:\", mean_value)\n",
        "\n",
        "#5. Create a 10x10 array with random values and find the minimum and maximum values.\n",
        "random_matrix = np.random.random((10,10))\n",
        "min_value = random_matrix.min()\n",
        "max_value = random_matrix.max()\n",
        "print(\"\\n10x10 Array with Random Values:\\n\", random_matrix)\n",
        "print(\"\\nMinimum Value:\", min_value)\n",
        "print(\"\\nMaximum Value:\", max_value)\n",
        "\n",
        "#6.Create a zero array of size 10 and replace the 5th element with 1.\n",
        "zero_array = np.zeros(10)\n",
        "zero_array[4] = 1  # Replace 5th element (index 4) with 1\n",
        "print(\"\\nZero Array with 5th Element Replaced by 1:\\n\", zero_array)\n",
        "\n",
        "# 7. Reverse an array arr = [1, 2, 0, 0, 4, 0].\n",
        "arr = [1, 2, 0, 0, 4, 0]\n",
        "reversed_array = arr[::-1]\n",
        "print(\"\\nReversed Array:\\n\", reversed_array)\n",
        "\n",
        "# 8. Create a 2D array with 1 on the border and 0 inside.\n",
        "border_array = np.ones((5, 5))  # Example size: 5x5\n",
        "border_array[1:-1, 1:-1] = 0\n",
        "print(\"\\n2D Array with 1 on Border and 0 Inside:\\n\", border_array)\n",
        "\n",
        "# 9. Create an 8X8 matrix and fill it with a checkerboard pattern.\n",
        "checkerboard = np.zeros((8, 8), dtype=int)\n",
        "checkerboard[1::2, ::2] = 1  # Fill odd rows, even columns\n",
        "checkerboard[::2, 1::2] = 1  # Fill even rows, odd columns\n",
        "print(\"\\n8x8 Checkerboard Pattern:\\n\", checkerboard)"
      ],
      "metadata": {
        "colab": {
          "base_uri": "https://localhost:8080/"
        },
        "id": "7tBrWX6lBC82",
        "outputId": "c1d7d5f9-fca8-41b6-cc22-38a24faaafc6"
      },
      "execution_count": 12,
      "outputs": [
        {
          "output_type": "stream",
          "name": "stdout",
          "text": [
            "Array with values ranging from 10 to 49:\n",
            " [10 11 12 13 14 15 16 17 18 19 20 21 22 23 24 25 26 27 28 29 30 31 32 33\n",
            " 34 35 36 37 38 39 40 41 42 43 44 45 46 47 48 49]\n",
            "\n",
            "3x3 Matrix with values ranging from 0 to 8:\n",
            " [[0 1 2]\n",
            " [3 4 5]\n",
            " [6 7 8]]\n",
            "\n",
            "3x3 Identity Matrix:\n",
            " [[1. 0. 0.]\n",
            " [0. 1. 0.]\n",
            " [0. 0. 1.]]\n",
            "\n",
            "Random Array of Size 30:\n",
            " [0.44311237 0.4407309  0.9006338  0.75090017 0.67255631 0.68987071\n",
            " 0.57094286 0.07193948 0.0268054  0.09524483 0.32323635 0.05075969\n",
            " 0.06207171 0.46712899 0.23957841 0.60393412 0.95283285 0.4332556\n",
            " 0.4620959  0.31315757 0.62764127 0.80082468 0.90936067 0.98328459\n",
            " 0.15741318 0.40672112 0.22731626 0.89708134 0.65082889 0.64225976]\n",
            "\n",
            "Mean of the Random Array: 0.4957839929846965\n",
            "\n",
            "10x10 Array with Random Values:\n",
            " [[0.44204205 0.17167144 0.9053856  0.88992483 0.73168367 0.86315828\n",
            "  0.87635386 0.86592299 0.95757791 0.23793373]\n",
            " [0.81193518 0.15245129 0.20269918 0.86730459 0.53668925 0.36593112\n",
            "  0.61849464 0.53121355 0.35777275 0.63545757]\n",
            " [0.54662789 0.74470182 0.97256504 0.95672224 0.48237514 0.68505129\n",
            "  0.49378964 0.48940786 0.29539167 0.6523589 ]\n",
            " [0.84392029 0.57789031 0.05419954 0.11580303 0.30588735 0.25337133\n",
            "  0.46276455 0.46955623 0.68467026 0.45725453]\n",
            " [0.92497065 0.84495506 0.80134996 0.14934542 0.03915725 0.41814444\n",
            "  0.37525732 0.10311448 0.00513806 0.12913354]\n",
            " [0.32717669 0.1608764  0.14020059 0.11862044 0.10204453 0.04676019\n",
            "  0.22024625 0.17092218 0.1955858  0.68525418]\n",
            " [0.8089037  0.2262257  0.30648858 0.53242671 0.434634   0.14553186\n",
            "  0.00807308 0.6361401  0.93576479 0.7142891 ]\n",
            " [0.42403533 0.04069832 0.93425173 0.54590966 0.07379747 0.66173088\n",
            "  0.00112028 0.43994756 0.65696721 0.15445243]\n",
            " [0.36661921 0.35712378 0.06036295 0.53634969 0.244327   0.27910825\n",
            "  0.52731539 0.07296733 0.09636837 0.55047862]\n",
            " [0.74144739 0.89341339 0.57823998 0.21143897 0.77596313 0.56144057\n",
            "  0.10597442 0.41869944 0.39549709 0.85841644]]\n",
            "\n",
            "Minimum Value: 0.0011202803582683885\n",
            "\n",
            "Maximum Value: 0.9725650395086569\n",
            "\n",
            "Zero Array with 5th Element Replaced by 1:\n",
            " [0. 0. 0. 0. 1. 0. 0. 0. 0. 0.]\n",
            "\n",
            "Reversed Array:\n",
            " [0, 4, 0, 0, 2, 1]\n",
            "\n",
            "2D Array with 1 on Border and 0 Inside:\n",
            " [[1. 1. 1. 1. 1.]\n",
            " [1. 0. 0. 0. 1.]\n",
            " [1. 0. 0. 0. 1.]\n",
            " [1. 0. 0. 0. 1.]\n",
            " [1. 1. 1. 1. 1.]]\n",
            "\n",
            "8x8 Checkerboard Pattern:\n",
            " [[0 1 0 1 0 1 0 1]\n",
            " [1 0 1 0 1 0 1 0]\n",
            " [0 1 0 1 0 1 0 1]\n",
            " [1 0 1 0 1 0 1 0]\n",
            " [0 1 0 1 0 1 0 1]\n",
            " [1 0 1 0 1 0 1 0]\n",
            " [0 1 0 1 0 1 0 1]\n",
            " [1 0 1 0 1 0 1 0]]\n"
          ]
        }
      ]
    },
    {
      "cell_type": "markdown",
      "source": [
        "# Problem - 3: Array Operations:\n",
        "# For the following arrays:\n",
        "# x = np.array([[1,2],[3,5]]) and y = np.array([[5,6],[7,8]]);\n",
        "# v = np.array([9,10]) and w = np.array([11,12]);\n",
        "# Complete all the task using numpy:\n"
      ],
      "metadata": {
        "id": "8Nye69cuMpHn"
      }
    },
    {
      "cell_type": "code",
      "source": [
        "import numpy as np\n",
        "\n",
        "# Given arrays\n",
        "x = np.array([[1, 2], [3, 5]])\n",
        "y = np.array([[5, 6], [7, 8]])\n",
        "v = np.array([[9, 10]])  # Reshaped to be consistent with concatenation\n",
        "w = np.array([[11, 12]])  # Reshaped to be consistent with concatenation\n",
        "\n",
        "# 1. Add the two arrays\n",
        "array_sum = x + y\n",
        "print(\"Sum of x and y:\\n\", array_sum)\n",
        "\n",
        "# 2. Subtract the two arrays\n",
        "array_diff = x - y\n",
        "print(\"\\nDifference of x and y:\\n\", array_diff)\n",
        "\n",
        "# 3. Multiply the array with any integer (e.g., multiply by 3)\n",
        "array_scaled = x * 3\n",
        "print(\"\\nArray x multiplied by 3:\\n\", array_scaled)\n",
        "\n",
        "# 4. Find the square of each element in the array\n",
        "array_squared = x ** 2\n",
        "print(\"\\nSquare of each element in x:\\n\", array_squared)\n",
        "\n",
        "# 5. Find the dot product between v(and)w ; x(and)v ; x(and)y.\n",
        "dot_vw = np.dot(v, w.T)  # Transpose w to align dimensions for dot product\n",
        "print(\"\\nDot product of v and w:\\n\", dot_vw)\n",
        "dot_xv = np.dot(x, v.T)  # Transpose v to align dimensions for dot product\n",
        "print(\"\\nDot product of x and v:\\n\", dot_xv)\n",
        "dot_xy = np.dot(x, y)\n",
        "print(\"\\nDot product of x and y:\\n\", dot_xy)\n",
        "\n",
        "# 6. Concatenate x and y along rows, and v and w along columns\n",
        "# along rows\n",
        "concat_xy_row = np.concatenate((x, y), axis=0)\n",
        "print(\"\\nConcatenation of x and y along rows:\\n\", concat_xy_row)\n",
        "\n",
        "# along columns\n",
        "concat_vw_col = np.concatenate((v.T, w.T), axis=1)  # Concatenate transposed vectors along columns\n",
        "print(\"\\nConcatenation of v and w along columns:\\n\", concat_vw_col)\n",
        "\n",
        "# 7. Concatenate x and v without error\n",
        "# Ensure v is reshaped to match x's dimensions for concatenation\n",
        "concat_xv = np.concatenate((x, v), axis=0)  # v has the correct shape\n",
        "print(\"\\nConcatenation of x and v:\\n\", concat_xv)\n"
      ],
      "metadata": {
        "colab": {
          "base_uri": "https://localhost:8080/"
        },
        "id": "kc4bW3_vNWwC",
        "outputId": "2fcf115b-463e-48f1-b5d5-c7d43c5b0bec"
      },
      "execution_count": 14,
      "outputs": [
        {
          "output_type": "stream",
          "name": "stdout",
          "text": [
            "Sum of x and y:\n",
            " [[ 6  8]\n",
            " [10 13]]\n",
            "\n",
            "Difference of x and y:\n",
            " [[-4 -4]\n",
            " [-4 -3]]\n",
            "\n",
            "Array x multiplied by 3:\n",
            " [[ 3  6]\n",
            " [ 9 15]]\n",
            "\n",
            "Square of each element in x:\n",
            " [[ 1  4]\n",
            " [ 9 25]]\n",
            "\n",
            "Dot product of v and w:\n",
            " [[219]]\n",
            "\n",
            "Dot product of x and v:\n",
            " [[29]\n",
            " [77]]\n",
            "\n",
            "Dot product of x and y:\n",
            " [[19 22]\n",
            " [50 58]]\n",
            "\n",
            "Concatenation of x and y along rows:\n",
            " [[1 2]\n",
            " [3 5]\n",
            " [5 6]\n",
            " [7 8]]\n",
            "\n",
            "Concatenation of v and w along columns:\n",
            " [[ 9 11]\n",
            " [10 12]]\n",
            "\n",
            "Concatenation of x and v:\n",
            " [[ 1  2]\n",
            " [ 3  5]\n",
            " [ 9 10]]\n"
          ]
        }
      ]
    },
    {
      "cell_type": "markdown",
      "source": [
        "# Problem - 4: Matrix Operations:\n",
        "# • For the following arrays:\n",
        "# A = np.array([[3,4],[7,8]]) and B = np.array([[5,3],[2,1]]);\n",
        "# Prove following with Numpy:\n"
      ],
      "metadata": {
        "id": "A8sNyHh4NdM9"
      }
    },
    {
      "cell_type": "code",
      "source": [
        "import numpy as np\n",
        "\n",
        "# Given arrays\n",
        "A = np.array([[3, 4], [7, 8]])\n",
        "B = np.array([[5, 3], [2, 1]])\n",
        "\n",
        "# 1. Prove A.A⁻¹ = I (Identity Matrix)\n",
        "# Inverse of A\n",
        "A_inv = np.linalg.inv(A)\n",
        "\n",
        "# A . A⁻¹\n",
        "result = np.dot(A, A_inv)\n",
        "\n",
        "print(\"A * A⁻¹:\\n\", result)\n",
        "\n",
        "# 2. Prove AB ≠ BA\n",
        "AB = np.dot(A, B)\n",
        "BA = np.dot(B, A)\n",
        "\n",
        "print(\"\\nAB:\\n\", AB)\n",
        "print(\"\\nBA:\\n\", BA)\n",
        "\n",
        "# Check if AB = BA\n",
        "is_equal = np.array_equal(AB, BA)\n",
        "print(\"\\nIs AB equal to BA? \", is_equal)\n",
        "\n",
        "# 3. Prove (AB)ᵀ = BᵀAᵀ\n",
        "\n",
        "# (AB)ᵀ\n",
        "AB_transpose = np.transpose(AB)\n",
        "\n",
        "#Bᵀ and Aᵀ\n",
        "BT = np.transpose(B)\n",
        "AT = np.transpose(A)\n",
        "\n",
        "# BᵀAᵀ\n",
        "BT_AT = np.dot(BT, AT)\n",
        "\n",
        "print(\"\\n(AB)ᵀ:\\n\", AB_transpose)\n",
        "print(\"\\nBᵀAᵀ:\\n\", BT_AT)\n",
        "\n",
        "# Check if (AB)ᵀ = BᵀAᵀ\n",
        "is_transpose_equal = np.array_equal(AB_transpose, BT_AT)\n",
        "print(\"\\nIs (AB)ᵀ equal to BᵀAᵀ? \", is_transpose_equal)"
      ],
      "metadata": {
        "colab": {
          "base_uri": "https://localhost:8080/"
        },
        "id": "87MpBs-VNeY2",
        "outputId": "5831e9bc-3259-4c5a-f026-9646f02c8d9e"
      },
      "execution_count": 15,
      "outputs": [
        {
          "output_type": "stream",
          "name": "stdout",
          "text": [
            "A * A⁻¹:\n",
            " [[1.00000000e+00 0.00000000e+00]\n",
            " [1.77635684e-15 1.00000000e+00]]\n",
            "\n",
            "AB:\n",
            " [[23 13]\n",
            " [51 29]]\n",
            "\n",
            "BA:\n",
            " [[36 44]\n",
            " [13 16]]\n",
            "\n",
            "Is AB equal to BA?  False\n",
            "\n",
            "(AB)ᵀ:\n",
            " [[23 51]\n",
            " [13 29]]\n",
            "\n",
            "BᵀAᵀ:\n",
            " [[23 51]\n",
            " [13 29]]\n",
            "\n",
            "Is (AB)ᵀ equal to BᵀAᵀ?  True\n"
          ]
        }
      ]
    },
    {
      "cell_type": "markdown",
      "source": [
        "# Solve the following system of Linear equation using Inverse Methods.\n",
        "# 2x − 3y + z = −1\n",
        "# x − y + 2z = −3\n",
        "# 3x + y − z = 9\n",
        "\n",
        "# {Hint: First use Numpy array to represent the equation in Matrix form. Then Solve for: AX = B}\n"
      ],
      "metadata": {
        "id": "LLuNvspWNk2s"
      }
    },
    {
      "cell_type": "code",
      "source": [
        "import numpy as np\n",
        "\n",
        "A = np.array([[2, -3, 1],\n",
        "              [1, -1, 2],\n",
        "              [3, 1, -1]])\n",
        "\n",
        "B = np.array([-1, -3, 9])\n",
        "\n",
        "# Step 1: Determinant of A\n",
        "det_A = (A[0, 0] * (A[1, 1] * A[2, 2] - A[1, 2] * A[2, 1]) -\n",
        "         A[0, 1] * (A[1, 0] * A[2, 2] - A[1, 2] * A[2, 0]) +\n",
        "         A[0, 2] * (A[1, 0] * A[2, 1] - A[1, 1] * A[2, 0]))\n",
        "\n",
        "print(\"Determinant of A:\", det_A)\n",
        "\n",
        "# Step 2: Cofactor matrix\n",
        "cofactor_matrix = np.array([\n",
        "    [(A[1, 1] * A[2, 2] - A[1, 2] * A[2, 1]), -(A[1, 0] * A[2, 2] - A[1, 2] * A[2, 0]), (A[1, 0] * A[2, 1] - A[1, 1] * A[2, 0])],\n",
        "    [-(A[0, 1] * A[2, 2] - A[0, 2] * A[2, 1]), (A[0, 0] * A[2, 2] - A[0, 2] * A[2, 0]), -(A[0, 0] * A[2, 1] - A[0, 1] * A[2, 0])],\n",
        "    [(A[0, 1] * A[1, 2] - A[0, 2] * A[1, 1]), -(A[0, 0] * A[1, 2] - A[0, 2] * A[1, 0]), (A[0, 0] * A[1, 1] - A[0, 1] * A[1, 0])]\n",
        "])\n",
        "\n",
        "# Step 3: Adjoint of A (transpose of cofactor matrix)\n",
        "adjoint_A = cofactor_matrix.T\n",
        "\n",
        "# Step 4: Inverse of A\n",
        "inverse_A = adjoint_A / det_A\n",
        "print(\"\\nInverse of A:\\n\", inverse_A)\n",
        "\n",
        "# Step 5: X = A⁻¹B\n",
        "X = np.dot(inverse_A, B)\n",
        "print(\"\\nSolution (x, y, z):\", X)\n"
      ],
      "metadata": {
        "colab": {
          "base_uri": "https://localhost:8080/"
        },
        "id": "f2el4uelNqjK",
        "outputId": "5418af61-8e0d-4e3e-b797-e3e05b253bbf"
      },
      "execution_count": 16,
      "outputs": [
        {
          "output_type": "stream",
          "name": "stdout",
          "text": [
            "Determinant of A: -19\n",
            "\n",
            "Inverse of A:\n",
            " [[ 0.05263158  0.10526316  0.26315789]\n",
            " [-0.36842105  0.26315789  0.15789474]\n",
            " [-0.21052632  0.57894737 -0.05263158]]\n",
            "\n",
            "Solution (x, y, z): [ 2.  1. -2.]\n"
          ]
        }
      ]
    },
    {
      "cell_type": "markdown",
      "source": [
        "# Now: solve the above equation using np.linalg.inv function.{Explore more about ”linalg” function of Numpy}\n"
      ],
      "metadata": {
        "id": "fiUL2l8tN0Wl"
      }
    },
    {
      "cell_type": "code",
      "source": [
        "import numpy as np\n",
        "\n",
        "A = np.array([[2, -3, 1],\n",
        "              [1, -1, 2],\n",
        "              [3, 1, -1]])\n",
        "\n",
        "B = np.array([-1, -3, 9])\n",
        "\n",
        "# Inverse of A using np.linalg.inv\n",
        "A_inv = np.linalg.inv(A)\n",
        "\n",
        "# X = A⁻¹B\n",
        "X = np.dot(A_inv, B)\n",
        "\n",
        "print(\"Inverse of A:\\n\", A_inv)\n",
        "print(\"\\nSolution (x, y, z):\", X)"
      ],
      "metadata": {
        "colab": {
          "base_uri": "https://localhost:8080/"
        },
        "id": "Yj4DJNPkN1XX",
        "outputId": "dc4960cb-0be5-430a-b99f-4c65d955291f"
      },
      "execution_count": 17,
      "outputs": [
        {
          "output_type": "stream",
          "name": "stdout",
          "text": [
            "Inverse of A:\n",
            " [[ 0.05263158  0.10526316  0.26315789]\n",
            " [-0.36842105  0.26315789  0.15789474]\n",
            " [-0.21052632  0.57894737 -0.05263158]]\n",
            "\n",
            "Solution (x, y, z): [ 2.  1. -2.]\n"
          ]
        }
      ]
    },
    {
      "cell_type": "markdown",
      "source": [
        "# 4.2 Experiment: How Fast is Numpy?\n",
        "# In this exercise, you will compare the performance and implementation of operations using plain Python lists (arrays) and NumPy arrays.\n",
        "#Follow the instructions:\n"
      ],
      "metadata": {
        "id": "A2FtzbdHN65V"
      }
    },
    {
      "cell_type": "code",
      "source": [
        "import time\n",
        "\n",
        "# 1. Element-wise Addition:\n",
        "print(\"1. Element-wise Addition\")\n",
        "\n",
        "# Using Python Lists, perform element-wise addition of two lists of size 1, 000, 000. Measure and Print the time taken for this operation.\n",
        "list1 = [i for i in range(1_000_000)]\n",
        "list2 = [i for i in range(1_000_000)]\n",
        "\n",
        "start_time = time.time()\n",
        "result_list = [list1[i] + list2[i] for i in range(len(list1))]\n",
        "end_time = time.time()\n",
        "print(f\"Time taken by Python Lists: {end_time - start_time:.5f} seconds\")\n",
        "\n",
        "# Using Numpy Arrays, Repeat the calculation and measure and print the time taken for this operation.\n",
        "array1 = np.array(list1)\n",
        "array2 = np.array(list2)\n",
        "\n",
        "start_time = time.time()\n",
        "result_array = array1 + array2\n",
        "end_time = time.time()\n",
        "print(f\"Time taken by numpy: {end_time - start_time:.5f} seconds\\n\")"
      ],
      "metadata": {
        "colab": {
          "base_uri": "https://localhost:8080/"
        },
        "id": "5sIwm1iiOAdC",
        "outputId": "ba992a0a-7e45-4071-d492-9260d458d38c"
      },
      "execution_count": 18,
      "outputs": [
        {
          "output_type": "stream",
          "name": "stdout",
          "text": [
            "1. Element-wise Addition\n",
            "Time taken by Python Lists: 0.16195 seconds\n",
            "Time taken by numpy: 0.00538 seconds\n",
            "\n"
          ]
        }
      ]
    },
    {
      "cell_type": "code",
      "source": [
        "# 2. Element-wise Multiplication\n",
        "print(\"2. Element-wise Multiplication\")\n",
        "\n",
        "# Using Python Lists, perform element-wise multiplication of two lists of size 1, 000, 000. Measure and Print the time taken for this operation.\n",
        "start_time = time.time()\n",
        "result_list = [list1[i] * list2[i] for i in range(len(list1))]\n",
        "end_time = time.time()\n",
        "print(f\"Time taken by Python Lists: {end_time - start_time:.5f} seconds\")\n",
        "\n",
        "# Using Numpy Arrays, Repeat the calculation and measure and print the time taken for this operation.\n",
        "start_time = time.time()\n",
        "result_array = array1 * array2\n",
        "end_time = time.time()\n",
        "print(f\"Time taken by numpy: {end_time - start_time:.5f} seconds\\n\")\n"
      ],
      "metadata": {
        "colab": {
          "base_uri": "https://localhost:8080/"
        },
        "id": "CQiOt5f1OG-I",
        "outputId": "b047334a-f214-4cbc-bf01-6beae8186629"
      },
      "execution_count": 19,
      "outputs": [
        {
          "output_type": "stream",
          "name": "stdout",
          "text": [
            "2. Element-wise Multiplication\n",
            "Time taken by Python Lists: 0.16597 seconds\n",
            "Time taken by numpy: 0.00494 seconds\n",
            "\n"
          ]
        }
      ]
    },
    {
      "cell_type": "code",
      "source": [
        "# 3. Dot Product\n",
        "print(\"3. Dot Product\")\n",
        "\n",
        "# Using Python Lists, compute the dot product of two lists of size 1, 000, 000. Measure and Print the time taken for this operation.\n",
        "start_time = time.time()\n",
        "dot_product_list = sum(list1[i] * list2[i] for i in range(len(list1)))\n",
        "end_time = time.time()\n",
        "print(f\"Time taken by Python Lists: {end_time - start_time:.5f} seconds\")\n",
        "\n",
        "# Using Numpy Arrays, Repeat the calculation and measure and print the time taken for this operation.\n",
        "start_time = time.time()\n",
        "dot_product_array = np.dot(array1, array2)\n",
        "end_time = time.time()\n",
        "print(f\"Time taken by numpy: {end_time - start_time:.5f} seconds\\n\")"
      ],
      "metadata": {
        "colab": {
          "base_uri": "https://localhost:8080/"
        },
        "id": "SUMYSvxEOJv_",
        "outputId": "0eadfa34-c8fa-44df-ba32-ddc2a8ef708a"
      },
      "execution_count": 20,
      "outputs": [
        {
          "output_type": "stream",
          "name": "stdout",
          "text": [
            "3. Dot Product\n",
            "Time taken by Python Lists: 0.14611 seconds\n",
            "Time taken by numpy: 0.00193 seconds\n",
            "\n"
          ]
        }
      ]
    },
    {
      "cell_type": "code",
      "source": [
        "# 4. Matrix Multiplication\n",
        "print(\"4. Matrix Multiplication\")\n",
        "size = 100\n",
        "\n",
        "# Using Python lists, perform matrix multiplication of two matrices of size 1000x1000. Measure and print the time taken for this operation.\n",
        "matrix1 = [[i for i in range(size)] for _ in range(size)]\n",
        "matrix2 = [[j for j in range(size)] for _ in range(size)]\n",
        "\n",
        "start_time = time.time()\n",
        "result_matrix = [[sum(a * b for a, b in zip(row, col)) for col in zip(*matrix2)] for row in matrix1]\n",
        "end_time = time.time()\n",
        "print(f\"Time taken by Python Lists: {end_time - start_time:.5f} seconds\")\n",
        "\n",
        "# Using NumPy arrays, perform matrix multiplication of two matrices of size 1000x1000. Measure and print the time taken for this operation.\n",
        "matrix1_np = np.array(matrix1)\n",
        "matrix2_np = np.array(matrix2)\n",
        "\n",
        "start_time = time.time()\n",
        "result_matrix_np = np.dot(matrix1_np, matrix2_np)\n",
        "end_time = time.time()\n",
        "print(f\"Time taken by numpy: {end_time - start_time:.5f} seconds\")"
      ],
      "metadata": {
        "colab": {
          "base_uri": "https://localhost:8080/"
        },
        "id": "jpVsKDl_OMku",
        "outputId": "0bc2ada1-d274-41d4-dc65-ec868b142b70"
      },
      "execution_count": 21,
      "outputs": [
        {
          "output_type": "stream",
          "name": "stdout",
          "text": [
            "4. Matrix Multiplication\n",
            "Time taken by Python Lists: 0.13905 seconds\n",
            "Time taken by numpy: 0.00134 seconds\n"
          ]
        }
      ]
    }
  ]
}